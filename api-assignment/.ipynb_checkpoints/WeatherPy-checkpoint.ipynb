{
 "cells": [
  {
   "cell_type": "markdown",
   "metadata": {},
   "source": [
    "# WeatherPy\n",
    "\n",
    "---\n",
    "\n",
    "## Starter Code to Generate Random Geographic Coordinates and a List of Cities"
   ]
  },
  {
   "cell_type": "code",
   "execution_count": 1,
   "metadata": {
    "scrolled": true
   },
   "outputs": [],
   "source": [
    "# Dependencies and Setup\n",
    "import matplotlib.pyplot as plt\n",
    "import pandas as pd\n",
    "import numpy as np\n",
    "import requests\n",
    "import time\n",
    "import scipy.stats as st\n",
    "\n",
    "# Impor the OpenWeatherMap API key\n",
    "from api_keys import weather_api_key\n",
    "\n",
    "# Import citipy to determine the cities based on latitude and longitude\n",
    "from citipy import citipy"
   ]
  },
  {
   "cell_type": "markdown",
   "metadata": {},
   "source": [
    "### Generate the Cities List by Using the `citipy` Library"
   ]
  },
  {
   "cell_type": "code",
   "execution_count": 2,
   "metadata": {},
   "outputs": [
    {
     "name": "stdout",
     "output_type": "stream",
     "text": [
      "Number of cities in the list: 606\n"
     ]
    }
   ],
   "source": [
    "# Empty list for holding the latitude and longitude combinations\n",
    "lat_lngs = []\n",
    "\n",
    "# Empty list for holding the cities names\n",
    "cities = []\n",
    "\n",
    "# Range of latitudes and longitudes\n",
    "lat_range = (-90, 90)\n",
    "lng_range = (-180, 180)\n",
    "\n",
    "# Create a set of random lat and lng combinations\n",
    "lats = np.random.uniform(lat_range[0], lat_range[1], size=1500)\n",
    "lngs = np.random.uniform(lng_range[0], lng_range[1], size=1500)\n",
    "lat_lngs = zip(lats, lngs)\n",
    "\n",
    "# Identify nearest city for each lat, lng combination\n",
    "for lat_lng in lat_lngs:\n",
    "    city = citipy.nearest_city(lat_lng[0], lat_lng[1]).city_name\n",
    "    \n",
    "    # If the city is unique, then add it to a our cities list\n",
    "    if city not in cities:\n",
    "        cities.append(city)\n",
    "\n",
    "# Print the city count to confirm sufficient count\n",
    "print(f\"Number of cities in the list: {len(cities)}\")\n"
   ]
  },
  {
   "cell_type": "code",
   "execution_count": 3,
   "metadata": {},
   "outputs": [
    {
     "name": "stdout",
     "output_type": "stream",
     "text": [
      "lake city\n"
     ]
    }
   ],
   "source": [
    "#verify that code ran successfully\n",
    "print(cities[233])"
   ]
  },
  {
   "cell_type": "code",
   "execution_count": 4,
   "metadata": {},
   "outputs": [
    {
     "name": "stdout",
     "output_type": "stream",
     "text": [
      "https://api.openweathermap.org/data/2.5/weather?units=Metric&APPID=0bab3b5c406d499a94d0b25cdeeaf7a4\n"
     ]
    }
   ],
   "source": [
    "base_url = f\"https://api.openweathermap.org/data/2.5/weather?units=Metric&APPID={weather_api_key}\"\n",
    "print(base_url)"
   ]
  },
  {
   "cell_type": "markdown",
   "metadata": {},
   "source": [
    "---"
   ]
  },
  {
   "cell_type": "markdown",
   "metadata": {},
   "source": [
    "## Requirement 1: Create Plots to Showcase the Relationship Between Weather Variables and Latitude\n",
    "\n",
    "### Use the OpenWeatherMap API to retrieve weather data from the cities list generated in the started code"
   ]
  },
  {
   "cell_type": "code",
   "execution_count": 5,
   "metadata": {},
   "outputs": [
    {
     "name": "stdout",
     "output_type": "stream",
     "text": [
      "Beginning Data Retrieval     \n",
      "-----------------------------\n",
      "Processing Record 1 of Set 1 | mar del plata\n",
      "Processing Record 2 of Set 1 | rikitea\n",
      "Processing Record 3 of Set 1 | albany\n",
      "Processing Record 4 of Set 1 | ushuaia\n",
      "Processing Record 5 of Set 1 | busselton\n",
      "Processing Record 6 of Set 1 | vaini\n",
      "Processing Record 7 of Set 1 | hilo\n",
      "Processing Record 8 of Set 1 | tasiilaq\n",
      "Processing Record 9 of Set 1 | tsihombe\n",
      "'coord'\n",
      "Processing Record 10 of Set 1 | leningradskiy\n",
      "Processing Record 11 of Set 1 | qaanaaq\n",
      "Processing Record 12 of Set 1 | tilichiki\n",
      "Processing Record 13 of Set 1 | arraial do cabo\n",
      "Processing Record 14 of Set 1 | ahipara\n",
      "Processing Record 15 of Set 1 | punta arenas\n",
      "Processing Record 16 of Set 1 | valparaiso\n",
      "Processing Record 17 of Set 1 | santa luzia\n",
      "Processing Record 18 of Set 1 | avarua\n",
      "Processing Record 19 of Set 1 | east london\n",
      "Processing Record 20 of Set 1 | castro\n",
      "Processing Record 21 of Set 1 | atuona\n",
      "Processing Record 22 of Set 1 | samusu\n",
      "'coord'\n",
      "Processing Record 23 of Set 1 | svetlogorsk\n",
      "Processing Record 24 of Set 1 | saskylakh\n",
      "Processing Record 25 of Set 1 | hokitika\n",
      "Processing Record 26 of Set 1 | mataura\n",
      "Processing Record 27 of Set 1 | college\n",
      "Processing Record 28 of Set 1 | hobart\n",
      "Processing Record 29 of Set 1 | cockburn town\n",
      "Processing Record 30 of Set 1 | guerrero negro\n",
      "Processing Record 31 of Set 1 | chipurupalle\n",
      "Processing Record 32 of Set 1 | amderma\n",
      "'coord'\n",
      "Processing Record 33 of Set 1 | grand river south east\n",
      "'coord'\n",
      "Processing Record 34 of Set 1 | beloha\n",
      "Processing Record 35 of Set 1 | port alfred\n",
      "Processing Record 36 of Set 1 | oranjemund\n",
      "Processing Record 37 of Set 1 | rungata\n",
      "'coord'\n",
      "Processing Record 38 of Set 1 | preston\n",
      "Processing Record 39 of Set 1 | shihezi\n",
      "Processing Record 40 of Set 1 | kapaa\n",
      "Processing Record 41 of Set 1 | comodoro rivadavia\n",
      "Processing Record 42 of Set 1 | nikolskoye\n",
      "Processing Record 43 of Set 1 | grenville\n",
      "Processing Record 44 of Set 1 | penugonda\n",
      "Processing Record 45 of Set 1 | barrow\n",
      "Processing Record 46 of Set 1 | mys shmidta\n",
      "'coord'\n",
      "Processing Record 47 of Set 1 | cape town\n",
      "Processing Record 48 of Set 1 | mahebourg\n",
      "Processing Record 49 of Set 1 | sungai kolok\n",
      "'coord'\n",
      "Processing Record 50 of Set 1 | cidreira\n",
      "Processing Record 0 of Set 2 | taolanaro\n",
      "'coord'\n",
      "Processing Record 1 of Set 2 | pingdingshan\n",
      "Processing Record 2 of Set 2 | severo-kurilsk\n",
      "Processing Record 3 of Set 2 | wukari\n",
      "Processing Record 4 of Set 2 | pinega\n",
      "Processing Record 5 of Set 2 | vila\n",
      "Processing Record 6 of Set 2 | dunedin\n",
      "Processing Record 7 of Set 2 | tuktoyaktuk\n",
      "Processing Record 8 of Set 2 | new norfolk\n",
      "Processing Record 9 of Set 2 | taoudenni\n",
      "Processing Record 10 of Set 2 | acapulco\n",
      "Processing Record 11 of Set 2 | bambous virieux\n",
      "Processing Record 12 of Set 2 | kegayli\n",
      "'coord'\n",
      "Processing Record 13 of Set 2 | saint-philippe\n",
      "Processing Record 14 of Set 2 | jijiga\n",
      "Processing Record 15 of Set 2 | rocha\n",
      "Processing Record 16 of Set 2 | bengkulu\n",
      "Processing Record 17 of Set 2 | butaritari\n",
      "Processing Record 18 of Set 2 | kruisfontein\n",
      "Processing Record 19 of Set 2 | roebourne\n",
      "Processing Record 20 of Set 2 | tucuma\n",
      "Processing Record 21 of Set 2 | port elizabeth\n",
      "Processing Record 22 of Set 2 | florianopolis\n",
      "Processing Record 23 of Set 2 | poum\n",
      "Processing Record 24 of Set 2 | ohara\n",
      "Processing Record 25 of Set 2 | pevek\n",
      "Processing Record 26 of Set 2 | belushya guba\n",
      "'coord'\n",
      "Processing Record 27 of Set 2 | bethel\n",
      "Processing Record 28 of Set 2 | metro\n",
      "Processing Record 29 of Set 2 | thompson\n",
      "Processing Record 30 of Set 2 | rafraf\n",
      "Processing Record 31 of Set 2 | vostok\n",
      "Processing Record 32 of Set 2 | el badari\n",
      "'coord'\n",
      "Processing Record 33 of Set 2 | sorvag\n",
      "'coord'\n",
      "Processing Record 34 of Set 2 | kahului\n",
      "Processing Record 35 of Set 2 | yerbogachen\n",
      "Processing Record 36 of Set 2 | port augusta\n",
      "Processing Record 37 of Set 2 | banda aceh\n",
      "Processing Record 38 of Set 2 | kalianget\n",
      "Processing Record 39 of Set 2 | provideniya\n",
      "Processing Record 40 of Set 2 | chokurdakh\n",
      "Processing Record 41 of Set 2 | severobaykalsk\n",
      "Processing Record 42 of Set 2 | pokhara\n",
      "Processing Record 43 of Set 2 | cabo san lucas\n",
      "Processing Record 44 of Set 2 | viedma\n",
      "Processing Record 45 of Set 2 | nhulunbuy\n",
      "Processing Record 46 of Set 2 | vysokogornyy\n",
      "Processing Record 47 of Set 2 | canto do buriti\n",
      "Processing Record 48 of Set 2 | areka\n",
      "Processing Record 49 of Set 2 | chapais\n",
      "Processing Record 0 of Set 3 | buqayq\n",
      "'coord'\n",
      "Processing Record 1 of Set 3 | lunglei\n",
      "Processing Record 2 of Set 3 | nongan\n",
      "Processing Record 3 of Set 3 | sentyabrskiy\n",
      "'coord'\n",
      "Processing Record 4 of Set 3 | meyungs\n",
      "'coord'\n",
      "Processing Record 5 of Set 3 | ostrovnoy\n",
      "Processing Record 6 of Set 3 | belmonte\n",
      "Processing Record 7 of Set 3 | los llanos de aridane\n",
      "Processing Record 8 of Set 3 | puerto ayora\n",
      "Processing Record 9 of Set 3 | vestmannaeyjar\n",
      "Processing Record 10 of Set 3 | yicheng\n",
      "Processing Record 11 of Set 3 | verkh-tula\n",
      "Processing Record 12 of Set 3 | plettenberg bay\n",
      "Processing Record 13 of Set 3 | palu\n",
      "Processing Record 14 of Set 3 | vagur\n",
      "Processing Record 15 of Set 3 | georgetown\n",
      "Processing Record 16 of Set 3 | borovoy\n",
      "Processing Record 17 of Set 3 | dinar\n",
      "Processing Record 18 of Set 3 | yellowknife\n",
      "Processing Record 19 of Set 3 | kuybysheve\n",
      "Processing Record 20 of Set 3 | fereydunshahr\n",
      "Processing Record 21 of Set 3 | jamestown\n",
      "Processing Record 22 of Set 3 | narsaq\n",
      "Processing Record 23 of Set 3 | hermanus\n",
      "Processing Record 24 of Set 3 | chuy\n",
      "Processing Record 25 of Set 3 | saleaula\n",
      "'coord'\n",
      "Processing Record 26 of Set 3 | tarime\n",
      "Processing Record 27 of Set 3 | ribeira grande\n",
      "Processing Record 28 of Set 3 | columbia\n",
      "Processing Record 29 of Set 3 | shimoda\n",
      "Processing Record 30 of Set 3 | baruni\n",
      "Processing Record 31 of Set 3 | bluff\n",
      "Processing Record 32 of Set 3 | ucluelet\n",
      "Processing Record 33 of Set 3 | bar harbor\n",
      "Processing Record 34 of Set 3 | atambua\n",
      "Processing Record 35 of Set 3 | iqaluit\n",
      "Processing Record 36 of Set 3 | lagoa\n",
      "Processing Record 37 of Set 3 | takoradi\n",
      "Processing Record 38 of Set 3 | souillac\n",
      "Processing Record 39 of Set 3 | nago\n",
      "Processing Record 40 of Set 3 | bredasdorp\n",
      "Processing Record 41 of Set 3 | hambantota\n",
      "Processing Record 42 of Set 3 | wanning\n",
      "Processing Record 43 of Set 3 | illoqqortoormiut\n",
      "'coord'\n",
      "Processing Record 44 of Set 3 | vardo\n",
      "Processing Record 45 of Set 3 | tuatapere\n",
      "Processing Record 46 of Set 3 | lahti\n",
      "Processing Record 47 of Set 3 | barawe\n",
      "'coord'\n",
      "Processing Record 48 of Set 3 | kavieng\n",
      "Processing Record 49 of Set 3 | snasa\n",
      "Processing Record 0 of Set 4 | bathsheba\n",
      "Processing Record 1 of Set 4 | pirovskoye\n",
      "Processing Record 2 of Set 4 | shirokiy\n",
      "Processing Record 3 of Set 4 | touros\n",
      "Processing Record 4 of Set 4 | wajir\n",
      "Processing Record 5 of Set 4 | humboldt\n",
      "Processing Record 6 of Set 4 | astana\n",
      "Processing Record 7 of Set 4 | khatanga\n",
      "Processing Record 8 of Set 4 | barentsburg\n",
      "'coord'\n",
      "Processing Record 9 of Set 4 | ovalle\n",
      "Processing Record 10 of Set 4 | geraldton\n",
      "Processing Record 11 of Set 4 | yuancheng\n",
      "Processing Record 12 of Set 4 | xining\n",
      "Processing Record 13 of Set 4 | portales\n",
      "Processing Record 14 of Set 4 | khartoum\n",
      "Processing Record 15 of Set 4 | hithadhoo\n",
      "Processing Record 16 of Set 4 | nkhotakota\n",
      "Processing Record 17 of Set 4 | juba\n",
      "Processing Record 18 of Set 4 | puerto madryn\n",
      "Processing Record 19 of Set 4 | vanavara\n",
      "Processing Record 20 of Set 4 | ketchikan\n",
      "Processing Record 21 of Set 4 | tuy hoa\n",
      "Processing Record 22 of Set 4 | ust-kulom\n",
      "Processing Record 23 of Set 4 | nome\n",
      "Processing Record 24 of Set 4 | attawapiskat\n",
      "'coord'\n",
      "Processing Record 25 of Set 4 | artyk\n",
      "'coord'\n",
      "Processing Record 26 of Set 4 | clyde river\n",
      "Processing Record 27 of Set 4 | rudnya\n",
      "Processing Record 28 of Set 4 | cherskiy\n",
      "Processing Record 29 of Set 4 | pangkalanbuun\n",
      "Processing Record 30 of Set 4 | kavaratti\n",
      "Processing Record 31 of Set 4 | mirnyy\n",
      "Processing Record 32 of Set 4 | bolobo\n",
      "Processing Record 33 of Set 4 | mitsamiouli\n",
      "Processing Record 34 of Set 4 | sibolga\n",
      "Processing Record 35 of Set 4 | shubarshi\n",
      "Processing Record 36 of Set 4 | ilulissat\n",
      "Processing Record 37 of Set 4 | san cristobal\n",
      "Processing Record 38 of Set 4 | chisindia\n",
      "Processing Record 39 of Set 4 | savannah bight\n",
      "Processing Record 40 of Set 4 | akyab\n",
      "Processing Record 41 of Set 4 | roma\n"
     ]
    },
    {
     "name": "stdout",
     "output_type": "stream",
     "text": [
      "Processing Record 42 of Set 4 | batagay-alyta\n",
      "Processing Record 43 of Set 4 | isangel\n",
      "Processing Record 44 of Set 4 | toliary\n",
      "'coord'\n",
      "Processing Record 45 of Set 4 | fairbanks\n",
      "Processing Record 46 of Set 4 | sam roi yot\n",
      "Processing Record 47 of Set 4 | ambilobe\n",
      "Processing Record 48 of Set 4 | tumannyy\n",
      "'coord'\n",
      "Processing Record 49 of Set 4 | mount isa\n",
      "Processing Record 0 of Set 5 | katsuura\n",
      "Processing Record 1 of Set 5 | qasigiannguit\n",
      "Processing Record 2 of Set 5 | roald\n",
      "Processing Record 3 of Set 5 | victoria\n",
      "Processing Record 4 of Set 5 | lebu\n",
      "Processing Record 5 of Set 5 | constitucion\n",
      "Processing Record 6 of Set 5 | high level\n",
      "Processing Record 7 of Set 5 | camacha\n",
      "Processing Record 8 of Set 5 | machakos\n",
      "Processing Record 9 of Set 5 | bandarbeyla\n",
      "Processing Record 10 of Set 5 | honiara\n",
      "Processing Record 11 of Set 5 | lata\n",
      "Processing Record 12 of Set 5 | diu\n",
      "Processing Record 13 of Set 5 | muros\n",
      "Processing Record 14 of Set 5 | westport\n",
      "Processing Record 15 of Set 5 | dawei\n",
      "Processing Record 16 of Set 5 | hede\n",
      "Processing Record 17 of Set 5 | aksarka\n",
      "Processing Record 18 of Set 5 | salinas\n",
      "Processing Record 19 of Set 5 | rudbar\n",
      "Processing Record 20 of Set 5 | hofn\n",
      "Processing Record 21 of Set 5 | saldanha\n",
      "Processing Record 22 of Set 5 | abomey\n",
      "Processing Record 23 of Set 5 | puro\n",
      "Processing Record 24 of Set 5 | milingimbi\n",
      "'coord'\n",
      "Processing Record 25 of Set 5 | taseyevo\n",
      "Processing Record 26 of Set 5 | maningrida\n",
      "Processing Record 27 of Set 5 | kloulklubed\n",
      "Processing Record 28 of Set 5 | nea karvali\n",
      "Processing Record 29 of Set 5 | brae\n",
      "Processing Record 30 of Set 5 | panguna\n",
      "Processing Record 31 of Set 5 | labuhan\n",
      "Processing Record 32 of Set 5 | airai\n",
      "Processing Record 33 of Set 5 | lake city\n",
      "Processing Record 34 of Set 5 | dourbali\n",
      "Processing Record 35 of Set 5 | bonavista\n",
      "Processing Record 36 of Set 5 | deputatskiy\n",
      "Processing Record 37 of Set 5 | finale ligure\n",
      "Processing Record 38 of Set 5 | boulder\n",
      "Processing Record 39 of Set 5 | ayan\n",
      "Processing Record 40 of Set 5 | bangkalan\n",
      "Processing Record 41 of Set 5 | innisfail\n",
      "Processing Record 42 of Set 5 | malaya purga\n",
      "Processing Record 43 of Set 5 | stony plain\n",
      "Processing Record 44 of Set 5 | petropavlovsk-kamchatskiy\n",
      "Processing Record 45 of Set 5 | fortuna\n",
      "Processing Record 46 of Set 5 | salalah\n",
      "Processing Record 47 of Set 5 | whitehorse\n",
      "Processing Record 48 of Set 5 | ciudad bolivar\n",
      "Processing Record 49 of Set 5 | napasar\n",
      "Processing Record 0 of Set 6 | north platte\n",
      "Processing Record 1 of Set 6 | espanola\n",
      "Processing Record 2 of Set 6 | norman wells\n",
      "Processing Record 3 of Set 6 | carnarvon\n",
      "Processing Record 4 of Set 6 | esperance\n",
      "Processing Record 5 of Set 6 | bowen\n",
      "Processing Record 6 of Set 6 | zmiyiv\n",
      "Processing Record 7 of Set 6 | paamiut\n",
      "Processing Record 8 of Set 6 | inuvik\n",
      "Processing Record 9 of Set 6 | razole\n",
      "Processing Record 10 of Set 6 | kawalu\n",
      "Processing Record 11 of Set 6 | manicore\n",
      "Processing Record 12 of Set 6 | listvyanskiy\n",
      "Processing Record 13 of Set 6 | ukiah\n",
      "Processing Record 14 of Set 6 | dzhusaly\n",
      "'coord'\n",
      "Processing Record 15 of Set 6 | vila do maio\n",
      "Processing Record 16 of Set 6 | bafq\n",
      "Processing Record 17 of Set 6 | cayenne\n",
      "Processing Record 18 of Set 6 | hovd\n",
      "Processing Record 19 of Set 6 | pisco\n",
      "Processing Record 20 of Set 6 | kaitangata\n",
      "Processing Record 21 of Set 6 | sacele\n",
      "Processing Record 22 of Set 6 | kamenka\n",
      "Processing Record 23 of Set 6 | ammon\n",
      "Processing Record 24 of Set 6 | ponta do sol\n",
      "Processing Record 25 of Set 6 | progreso\n",
      "Processing Record 26 of Set 6 | botucatu\n",
      "Processing Record 27 of Set 6 | mehamn\n",
      "Processing Record 28 of Set 6 | elko\n",
      "Processing Record 29 of Set 6 | kysyl-syr\n",
      "Processing Record 30 of Set 6 | santo amaro da imperatriz\n",
      "Processing Record 31 of Set 6 | inyonga\n",
      "Processing Record 32 of Set 6 | mirpur sakro\n",
      "Processing Record 33 of Set 6 | longyearbyen\n",
      "Processing Record 34 of Set 6 | nizhneyansk\n",
      "'coord'\n",
      "Processing Record 35 of Set 6 | siilinjarvi\n",
      "Processing Record 36 of Set 6 | xinqing\n",
      "Processing Record 37 of Set 6 | magdalena\n",
      "Processing Record 38 of Set 6 | birao\n",
      "Processing Record 39 of Set 6 | lodja\n",
      "Processing Record 40 of Set 6 | praia da vitoria\n",
      "Processing Record 41 of Set 6 | bairiki\n",
      "Processing Record 42 of Set 6 | lasa\n",
      "Processing Record 43 of Set 6 | veraval\n",
      "Processing Record 44 of Set 6 | vrangel\n",
      "Processing Record 45 of Set 6 | havelock\n",
      "Processing Record 46 of Set 6 | palmer\n",
      "Processing Record 47 of Set 6 | lompoc\n",
      "Processing Record 48 of Set 6 | cuamba\n",
      "Processing Record 49 of Set 6 | marystown\n",
      "Processing Record 0 of Set 7 | morondava\n",
      "Processing Record 1 of Set 7 | lanigan\n",
      "Processing Record 2 of Set 7 | sitka\n",
      "Processing Record 3 of Set 7 | bilibino\n",
      "Processing Record 4 of Set 7 | glenwood springs\n",
      "Processing Record 5 of Set 7 | sisimiut\n",
      "Processing Record 6 of Set 7 | tiksi\n",
      "Processing Record 7 of Set 7 | tahe\n",
      "Processing Record 8 of Set 7 | arlit\n",
      "Processing Record 9 of Set 7 | sinnamary\n",
      "Processing Record 10 of Set 7 | klaksvik\n",
      "Processing Record 11 of Set 7 | gornozavodsk\n",
      "Processing Record 12 of Set 7 | waingapu\n",
      "Processing Record 13 of Set 7 | road town\n",
      "Processing Record 14 of Set 7 | irbil\n",
      "Processing Record 15 of Set 7 | jiddah\n",
      "'coord'\n",
      "Processing Record 16 of Set 7 | ostersund\n",
      "Processing Record 17 of Set 7 | ixtapa\n",
      "Processing Record 18 of Set 7 | codrington\n",
      "Processing Record 19 of Set 7 | umm kaddadah\n",
      "Processing Record 20 of Set 7 | namatanai\n",
      "Processing Record 21 of Set 7 | arauca\n",
      "Processing Record 22 of Set 7 | dingli\n",
      "Processing Record 23 of Set 7 | ancud\n",
      "Processing Record 24 of Set 7 | langxiang\n",
      "Processing Record 25 of Set 7 | basco\n",
      "Processing Record 26 of Set 7 | miravci\n",
      "Processing Record 27 of Set 7 | bajo baudo\n",
      "'coord'\n",
      "Processing Record 28 of Set 7 | matara\n",
      "Processing Record 29 of Set 7 | camocim\n",
      "Processing Record 30 of Set 7 | adrar\n",
      "Processing Record 31 of Set 7 | hasaki\n",
      "Processing Record 32 of Set 7 | dikson\n",
      "Processing Record 33 of Set 7 | srednekolymsk\n",
      "Processing Record 34 of Set 7 | hami\n",
      "Processing Record 35 of Set 7 | mangan\n",
      "Processing Record 36 of Set 7 | alice springs\n",
      "Processing Record 37 of Set 7 | gallup\n",
      "Processing Record 38 of Set 7 | sambava\n",
      "Processing Record 39 of Set 7 | tucurui\n",
      "Processing Record 40 of Set 7 | torbay\n",
      "Processing Record 41 of Set 7 | alyangula\n",
      "Processing Record 42 of Set 7 | yeppoon\n",
      "Processing Record 43 of Set 7 | grindavik\n",
      "Processing Record 44 of Set 7 | campeche\n",
      "Processing Record 45 of Set 7 | faya\n",
      "Processing Record 46 of Set 7 | lusambo\n",
      "Processing Record 47 of Set 7 | henties bay\n",
      "Processing Record 48 of Set 7 | oktyabrskoye\n",
      "Processing Record 49 of Set 7 | kinablangan\n",
      "Processing Record 0 of Set 8 | sur\n",
      "Processing Record 1 of Set 8 | zaysan\n",
      "Processing Record 2 of Set 8 | sola\n",
      "Processing Record 3 of Set 8 | general roca\n",
      "Processing Record 4 of Set 8 | maykain\n",
      "'coord'\n",
      "Processing Record 5 of Set 8 | hohhot\n",
      "Processing Record 6 of Set 8 | bayan\n",
      "Processing Record 7 of Set 8 | biggar\n",
      "Processing Record 8 of Set 8 | grand gaube\n",
      "Processing Record 9 of Set 8 | richards bay\n",
      "Processing Record 10 of Set 8 | coari\n",
      "Processing Record 11 of Set 8 | te anau\n",
      "Processing Record 12 of Set 8 | palabuhanratu\n",
      "'coord'\n",
      "Processing Record 13 of Set 8 | luderitz\n",
      "Processing Record 14 of Set 8 | dongsheng\n",
      "Processing Record 15 of Set 8 | olinda\n",
      "Processing Record 16 of Set 8 | huazolotitlan\n",
      "'coord'\n",
      "Processing Record 17 of Set 8 | babanusah\n",
      "'coord'\n",
      "Processing Record 18 of Set 8 | moron\n",
      "Processing Record 19 of Set 8 | hobyo\n",
      "Processing Record 20 of Set 8 | bodaybo\n",
      "Processing Record 21 of Set 8 | hamilton\n",
      "Processing Record 22 of Set 8 | hermosillo\n",
      "Processing Record 23 of Set 8 | san clemente\n",
      "Processing Record 24 of Set 8 | suao\n",
      "'coord'\n",
      "Processing Record 25 of Set 8 | lavrentiya\n",
      "Processing Record 26 of Set 8 | weligama\n",
      "Processing Record 27 of Set 8 | alta floresta\n",
      "Processing Record 28 of Set 8 | luganville\n",
      "Processing Record 29 of Set 8 | temnikov\n",
      "Processing Record 30 of Set 8 | yumen\n",
      "Processing Record 31 of Set 8 | asino\n",
      "Processing Record 32 of Set 8 | telenesti\n",
      "Processing Record 33 of Set 8 | karratha\n",
      "Processing Record 34 of Set 8 | mana\n",
      "Processing Record 35 of Set 8 | bosaso\n",
      "Processing Record 36 of Set 8 | santa maria\n",
      "Processing Record 37 of Set 8 | nuuk\n",
      "Processing Record 38 of Set 8 | brasilia\n",
      "Processing Record 39 of Set 8 | inongo\n",
      "Processing Record 40 of Set 8 | kyshtovka\n"
     ]
    },
    {
     "name": "stdout",
     "output_type": "stream",
     "text": [
      "Processing Record 41 of Set 8 | cururupu\n",
      "Processing Record 42 of Set 8 | goderich\n",
      "Processing Record 43 of Set 8 | tautira\n",
      "Processing Record 44 of Set 8 | vaitupu\n",
      "'coord'\n",
      "Processing Record 45 of Set 8 | jahazpur\n",
      "Processing Record 46 of Set 8 | kidal\n",
      "Processing Record 47 of Set 8 | koslan\n",
      "Processing Record 48 of Set 8 | russell\n",
      "Processing Record 49 of Set 8 | kuche\n",
      "'coord'\n",
      "Processing Record 0 of Set 9 | ngunguru\n",
      "Processing Record 1 of Set 9 | thayetmyo\n",
      "Processing Record 2 of Set 9 | kiunga\n",
      "Processing Record 3 of Set 9 | chivilcoy\n",
      "Processing Record 4 of Set 9 | khonuu\n",
      "'coord'\n",
      "Processing Record 5 of Set 9 | nanortalik\n",
      "Processing Record 6 of Set 9 | celestun\n",
      "Processing Record 7 of Set 9 | faanui\n",
      "Processing Record 8 of Set 9 | am timan\n",
      "Processing Record 9 of Set 9 | nisia floresta\n",
      "Processing Record 10 of Set 9 | san luis\n",
      "Processing Record 11 of Set 9 | grand-santi\n",
      "Processing Record 12 of Set 9 | kodiak\n",
      "Processing Record 13 of Set 9 | luanda\n",
      "Processing Record 14 of Set 9 | tokmak\n",
      "Processing Record 15 of Set 9 | kotturu\n",
      "Processing Record 16 of Set 9 | ovsyanka\n",
      "Processing Record 17 of Set 9 | ossora\n",
      "Processing Record 18 of Set 9 | sao domingos\n",
      "Processing Record 19 of Set 9 | diapaga\n",
      "Processing Record 20 of Set 9 | port hardy\n",
      "Processing Record 21 of Set 9 | ust-nera\n",
      "Processing Record 22 of Set 9 | charlestown\n",
      "Processing Record 23 of Set 9 | vanimo\n",
      "Processing Record 24 of Set 9 | gambela\n",
      "Processing Record 25 of Set 9 | ndele\n",
      "Processing Record 26 of Set 9 | broome\n",
      "Processing Record 27 of Set 9 | murwillumbah\n",
      "Processing Record 28 of Set 9 | makakilo city\n",
      "Processing Record 29 of Set 9 | milkovo\n",
      "Processing Record 30 of Set 9 | ponta pora\n",
      "Processing Record 31 of Set 9 | lamu\n",
      "Processing Record 32 of Set 9 | umm lajj\n",
      "Processing Record 33 of Set 9 | cancun\n",
      "Processing Record 34 of Set 9 | upernavik\n",
      "Processing Record 35 of Set 9 | dingle\n",
      "Processing Record 36 of Set 9 | kondrovo\n",
      "Processing Record 37 of Set 9 | kupang\n",
      "Processing Record 38 of Set 9 | tasbuget\n",
      "'coord'\n",
      "Processing Record 39 of Set 9 | saint-pierre\n",
      "Processing Record 40 of Set 9 | kirksville\n",
      "Processing Record 41 of Set 9 | x-can\n",
      "'coord'\n",
      "Processing Record 42 of Set 9 | saint-augustin\n",
      "Processing Record 43 of Set 9 | pell city\n",
      "Processing Record 44 of Set 9 | dawlatabad\n",
      "Processing Record 45 of Set 9 | zhezkazgan\n",
      "Processing Record 46 of Set 9 | anadyr\n",
      "Processing Record 47 of Set 9 | saint george\n",
      "Processing Record 48 of Set 9 | san patricio\n",
      "Processing Record 49 of Set 9 | sokoni\n",
      "Processing Record 0 of Set 10 | edd\n",
      "Processing Record 1 of Set 10 | omboue\n",
      "Processing Record 2 of Set 10 | citta di castello\n",
      "Processing Record 3 of Set 10 | tire\n",
      "Processing Record 4 of Set 10 | gat\n",
      "Processing Record 5 of Set 10 | betioky\n",
      "Processing Record 6 of Set 10 | sol-iletsk\n",
      "Processing Record 7 of Set 10 | saint-marc\n",
      "Processing Record 8 of Set 10 | goreloye\n",
      "Processing Record 9 of Set 10 | foz do iguacu\n",
      "Processing Record 10 of Set 10 | arys\n",
      "Processing Record 11 of Set 10 | rapid valley\n",
      "Processing Record 12 of Set 10 | tessalit\n",
      "Processing Record 13 of Set 10 | coarnele caprei\n",
      "Processing Record 14 of Set 10 | gizo\n",
      "Processing Record 15 of Set 10 | taksimo\n",
      "Processing Record 16 of Set 10 | sakakah\n",
      "Processing Record 17 of Set 10 | olafsvik\n",
      "Processing Record 18 of Set 10 | chagda\n",
      "'coord'\n",
      "Processing Record 19 of Set 10 | cabedelo\n",
      "Processing Record 20 of Set 10 | flin flon\n",
      "Processing Record 21 of Set 10 | ilinskiy\n",
      "Processing Record 22 of Set 10 | pilar\n",
      "Processing Record 23 of Set 10 | avera\n",
      "Processing Record 24 of Set 10 | changde\n",
      "Processing Record 25 of Set 10 | taber\n",
      "Processing Record 26 of Set 10 | namtsy\n",
      "Processing Record 27 of Set 10 | san quintin\n",
      "Processing Record 28 of Set 10 | eirunepe\n",
      "Processing Record 29 of Set 10 | nantucket\n",
      "Processing Record 30 of Set 10 | aleksandrovskoye\n",
      "Processing Record 31 of Set 10 | amboise\n",
      "Processing Record 32 of Set 10 | anloga\n",
      "Processing Record 33 of Set 10 | somerset\n",
      "Processing Record 34 of Set 10 | villa rica\n",
      "Processing Record 35 of Set 10 | medina del campo\n",
      "Processing Record 36 of Set 10 | afmadu\n",
      "'coord'\n",
      "Processing Record 37 of Set 10 | balkanabat\n",
      "Processing Record 38 of Set 10 | flinders\n",
      "Processing Record 39 of Set 10 | vad\n",
      "Processing Record 40 of Set 10 | zhangye\n",
      "Processing Record 41 of Set 10 | nizwa\n",
      "Processing Record 42 of Set 10 | topeka\n",
      "Processing Record 43 of Set 10 | jieshi\n",
      "Processing Record 44 of Set 10 | jalu\n",
      "Processing Record 45 of Set 10 | amazar\n",
      "Processing Record 46 of Set 10 | port blair\n",
      "Processing Record 47 of Set 10 | pandan\n",
      "Processing Record 48 of Set 10 | salinopolis\n",
      "Processing Record 49 of Set 10 | whitianga\n",
      "Processing Record 0 of Set 11 | azanka\n",
      "Processing Record 1 of Set 11 | port lincoln\n",
      "Processing Record 2 of Set 11 | ballina\n",
      "Processing Record 3 of Set 11 | warqla\n",
      "'coord'\n",
      "Processing Record 4 of Set 11 | resistencia\n",
      "Processing Record 5 of Set 11 | conway\n",
      "Processing Record 6 of Set 11 | huilong\n",
      "Processing Record 7 of Set 11 | kulhudhuffushi\n",
      "Processing Record 8 of Set 11 | lima\n",
      "Processing Record 9 of Set 11 | chengde\n",
      "Processing Record 10 of Set 11 | copiapo\n",
      "Processing Record 11 of Set 11 | leh\n",
      "Processing Record 12 of Set 11 | kununurra\n",
      "Processing Record 13 of Set 11 | armacao dos buzios\n",
      "'coord'\n",
      "Processing Record 14 of Set 11 | oussouye\n",
      "Processing Record 15 of Set 11 | kudat\n",
      "Processing Record 16 of Set 11 | gladstone\n",
      "Processing Record 17 of Set 11 | san francisco del mar\n",
      "Processing Record 18 of Set 11 | gerash\n",
      "Processing Record 19 of Set 11 | naze\n",
      "Processing Record 20 of Set 11 | porto novo\n",
      "Processing Record 21 of Set 11 | faro\n",
      "Processing Record 22 of Set 11 | aljezur\n",
      "Processing Record 23 of Set 11 | narok\n",
      "Processing Record 24 of Set 11 | samarai\n",
      "Processing Record 25 of Set 11 | tshikapa\n",
      "Processing Record 26 of Set 11 | nakambala\n",
      "Processing Record 27 of Set 11 | japura\n",
      "Processing Record 28 of Set 11 | boueni\n",
      "Processing Record 29 of Set 11 | farafangana\n",
      "Processing Record 30 of Set 11 | akdagmadeni\n",
      "Processing Record 31 of Set 11 | alofi\n",
      "Processing Record 32 of Set 11 | korfovskiy\n",
      "Processing Record 33 of Set 11 | wulanhaote\n",
      "'coord'\n",
      "Processing Record 34 of Set 11 | mount gambier\n",
      "Processing Record 35 of Set 11 | ati\n",
      "Processing Record 36 of Set 11 | half moon bay\n",
      "Processing Record 37 of Set 11 | bansang\n",
      "Processing Record 38 of Set 11 | vernon\n",
      "Processing Record 39 of Set 11 | lemoore\n",
      "Processing Record 40 of Set 11 | doha\n",
      "Processing Record 41 of Set 11 | mangrol\n",
      "Processing Record 42 of Set 11 | homer\n",
      "Processing Record 43 of Set 11 | san sebastian\n",
      "Processing Record 44 of Set 11 | ventspils\n",
      "Processing Record 45 of Set 11 | eureka\n",
      "Processing Record 46 of Set 11 | ust-ilimsk\n",
      "Processing Record 47 of Set 11 | tyukhtet\n",
      "Processing Record 48 of Set 11 | dakar\n",
      "Processing Record 49 of Set 11 | iranshahr\n",
      "Processing Record 0 of Set 12 | emerald\n",
      "Processing Record 1 of Set 12 | coquimbo\n",
      "Processing Record 2 of Set 12 | yenotayevka\n",
      "Processing Record 3 of Set 12 | tahta\n",
      "Processing Record 4 of Set 12 | oktyabrskiy\n",
      "Processing Record 5 of Set 12 | pacifica\n",
      "Processing Record 6 of Set 12 | nioro\n",
      "Processing Record 7 of Set 12 | rawson\n",
      "Processing Record 8 of Set 12 | hurghada\n",
      "Processing Record 9 of Set 12 | abalak\n",
      "Processing Record 10 of Set 12 | moshupa\n",
      "Processing Record 11 of Set 12 | larsnes\n",
      "Processing Record 12 of Set 12 | chapeco\n",
      "Processing Record 13 of Set 12 | placido de castro\n",
      "Processing Record 14 of Set 12 | ellsworth\n",
      "Processing Record 15 of Set 12 | angoram\n",
      "Processing Record 16 of Set 12 | calatayud\n",
      "Processing Record 17 of Set 12 | tamiahua\n",
      "Processing Record 18 of Set 12 | caravelas\n",
      "Processing Record 19 of Set 12 | saint anthony\n",
      "Processing Record 20 of Set 12 | kushima\n",
      "Processing Record 21 of Set 12 | mabaruma\n",
      "Processing Record 22 of Set 12 | haines junction\n",
      "Processing Record 23 of Set 12 | quatre cocos\n",
      "Processing Record 24 of Set 12 | aklavik\n",
      "Processing Record 25 of Set 12 | abeche\n",
      "Processing Record 26 of Set 12 | kembe\n",
      "Processing Record 27 of Set 12 | laurinburg\n",
      "Processing Record 28 of Set 12 | jablah\n",
      "Processing Record 29 of Set 12 | horki\n",
      "Processing Record 30 of Set 12 | bjerkvik\n",
      "Processing Record 31 of Set 12 | helena\n",
      "Processing Record 32 of Set 12 | irbit\n",
      "Processing Record 33 of Set 12 | keflavik\n",
      "Processing Record 34 of Set 12 | mocuba\n",
      "Processing Record 35 of Set 12 | erenhot\n",
      "Processing Record 36 of Set 12 | cuyo\n"
     ]
    },
    {
     "name": "stdout",
     "output_type": "stream",
     "text": [
      "Processing Record 37 of Set 12 | yatou\n",
      "Processing Record 38 of Set 12 | senanga\n",
      "Processing Record 39 of Set 12 | sao joao da barra\n",
      "Processing Record 40 of Set 12 | aitape\n",
      "Processing Record 41 of Set 12 | marzuq\n",
      "Processing Record 42 of Set 12 | minggang\n",
      "Processing Record 43 of Set 12 | cody\n",
      "Processing Record 44 of Set 12 | berlevag\n",
      "Processing Record 45 of Set 12 | juifang\n",
      "'coord'\n",
      "Processing Record 46 of Set 12 | blacksburg\n",
      "Processing Record 47 of Set 12 | tabriz\n",
      "Processing Record 48 of Set 12 | port-gentil\n",
      "Processing Record 49 of Set 12 | paciran\n",
      "Processing Record 0 of Set 13 | poya\n",
      "Processing Record 1 of Set 13 | san pedro buenavista\n",
      "Processing Record 2 of Set 13 | bambanglipuro\n",
      "Processing Record 3 of Set 13 | san javier\n",
      "Processing Record 4 of Set 13 | arman\n",
      "Processing Record 5 of Set 13 | klyuchi\n",
      "-----------------------------\n",
      "Data Retrieval Complete      \n",
      "-----------------------------\n"
     ]
    }
   ],
   "source": [
    "# Set the API base URL\n",
    "base_url = f\"https://api.openweathermap.org/data/2.5/weather?units=Metric&APPID={weather_api_key}\"\n",
    "\n",
    "# Define an empty list to fetch the weather data for each city\n",
    "city_data = []\n",
    "\n",
    "# Print to logger\n",
    "print(\"Beginning Data Retrieval     \")\n",
    "print(\"-----------------------------\")\n",
    "\n",
    "# Create counters\n",
    "record_count = 1\n",
    "set_count = 1\n",
    "\n",
    "# Loop through all the cities in our list to fetch weather data\n",
    "for i, city in enumerate(cities):\n",
    "        \n",
    "    # Group cities in sets of 50 for logging purposes\n",
    "    if (i % 50 == 0 and i >= 50):\n",
    "        set_count += 1\n",
    "        record_count = 0\n",
    "\n",
    "    # Create endpoint URL with each city\n",
    "    city_url = base_url + \"&q=\" + city\n",
    "    \n",
    "    # Log the url, record, and set numbers\n",
    "    print(\"Processing Record %s of Set %s | %s\" % (record_count, set_count, city))\n",
    "\n",
    "    # Add 1 to the record count\n",
    "    record_count += 1\n",
    "\n",
    "    # Run an API request for each of the cities\n",
    "    try:\n",
    "        # Parse the JSON and retrieve data\n",
    "        city_weather = requests.get(city_url).json()\n",
    "\n",
    "        # Parse out latitude, longitude, max temp, humidity, cloudiness, wind speed, country, and date\n",
    "        city_lat = city_weather['coord']['lat']\n",
    "        city_lng = city_weather['coord']['lon']\n",
    "        city_max_temp = city_weather['main']['temp_max']\n",
    "        city_humidity = city_weather['main']['humidity']\n",
    "        city_clouds = city_weather['clouds']['all']\n",
    "        city_wind = city_weather['wind']['speed']\n",
    "        city_country = city_weather['sys']['country']\n",
    "        city_date = city_weather['dt']\n",
    "\n",
    "        # Append the City information into city_data list\n",
    "        city_data.append({\"City\": city, \n",
    "                          \"Lat\": city_lat, \n",
    "                          \"Lng\": city_lng, \n",
    "                          \"Max Temp\": city_max_temp,\n",
    "                          \"Humidity\": city_humidity,\n",
    "                          \"Cloudiness\": city_clouds,\n",
    "                          \"Wind Speed\": city_wind,\n",
    "                          \"Country\": city_country,\n",
    "                          \"Date\": city_date})\n",
    "\n",
    "    # If an error is experienced, skip the city\n",
    "    except Exception as e:\n",
    "        print(e)\n",
    "              \n",
    "# Indicate that Data Loading is complete \n",
    "print(\"-----------------------------\")\n",
    "print(\"Data Retrieval Complete      \")\n",
    "print(\"-----------------------------\")"
   ]
  },
  {
   "cell_type": "code",
   "execution_count": 6,
   "metadata": {},
   "outputs": [
    {
     "data": {
      "text/plain": [
       "City          562\n",
       "Lat           562\n",
       "Lng           562\n",
       "Max Temp      562\n",
       "Humidity      562\n",
       "Cloudiness    562\n",
       "Wind Speed    562\n",
       "Country       562\n",
       "Date          562\n",
       "dtype: int64"
      ]
     },
     "execution_count": 6,
     "metadata": {},
     "output_type": "execute_result"
    }
   ],
   "source": [
    "# Convert the cities weather data into a Pandas DataFrame\n",
    "city_data_df = pd.DataFrame(city_data)                       \n",
    "                          \n",
    "# Show Record Count\n",
    "city_data_df.count()"
   ]
  },
  {
   "cell_type": "code",
   "execution_count": 7,
   "metadata": {},
   "outputs": [
    {
     "data": {
      "text/html": [
       "<div>\n",
       "<style scoped>\n",
       "    .dataframe tbody tr th:only-of-type {\n",
       "        vertical-align: middle;\n",
       "    }\n",
       "\n",
       "    .dataframe tbody tr th {\n",
       "        vertical-align: top;\n",
       "    }\n",
       "\n",
       "    .dataframe thead th {\n",
       "        text-align: right;\n",
       "    }\n",
       "</style>\n",
       "<table border=\"1\" class=\"dataframe\">\n",
       "  <thead>\n",
       "    <tr style=\"text-align: right;\">\n",
       "      <th></th>\n",
       "      <th>City</th>\n",
       "      <th>Lat</th>\n",
       "      <th>Lng</th>\n",
       "      <th>Max Temp</th>\n",
       "      <th>Humidity</th>\n",
       "      <th>Cloudiness</th>\n",
       "      <th>Wind Speed</th>\n",
       "      <th>Country</th>\n",
       "      <th>Date</th>\n",
       "    </tr>\n",
       "  </thead>\n",
       "  <tbody>\n",
       "    <tr>\n",
       "      <th>0</th>\n",
       "      <td>mar del plata</td>\n",
       "      <td>-38.0023</td>\n",
       "      <td>-57.5575</td>\n",
       "      <td>6.72</td>\n",
       "      <td>72</td>\n",
       "      <td>0</td>\n",
       "      <td>3.09</td>\n",
       "      <td>AR</td>\n",
       "      <td>1686710353</td>\n",
       "    </tr>\n",
       "    <tr>\n",
       "      <th>1</th>\n",
       "      <td>rikitea</td>\n",
       "      <td>-23.1203</td>\n",
       "      <td>-134.9692</td>\n",
       "      <td>22.09</td>\n",
       "      <td>67</td>\n",
       "      <td>62</td>\n",
       "      <td>4.49</td>\n",
       "      <td>PF</td>\n",
       "      <td>1686710498</td>\n",
       "    </tr>\n",
       "    <tr>\n",
       "      <th>2</th>\n",
       "      <td>albany</td>\n",
       "      <td>42.6001</td>\n",
       "      <td>-73.9662</td>\n",
       "      <td>16.07</td>\n",
       "      <td>79</td>\n",
       "      <td>95</td>\n",
       "      <td>0.95</td>\n",
       "      <td>US</td>\n",
       "      <td>1686710473</td>\n",
       "    </tr>\n",
       "    <tr>\n",
       "      <th>3</th>\n",
       "      <td>ushuaia</td>\n",
       "      <td>-54.8000</td>\n",
       "      <td>-68.3000</td>\n",
       "      <td>5.81</td>\n",
       "      <td>65</td>\n",
       "      <td>75</td>\n",
       "      <td>1.54</td>\n",
       "      <td>AR</td>\n",
       "      <td>1686710517</td>\n",
       "    </tr>\n",
       "    <tr>\n",
       "      <th>4</th>\n",
       "      <td>busselton</td>\n",
       "      <td>-33.6500</td>\n",
       "      <td>115.3333</td>\n",
       "      <td>15.08</td>\n",
       "      <td>69</td>\n",
       "      <td>57</td>\n",
       "      <td>4.66</td>\n",
       "      <td>AU</td>\n",
       "      <td>1686710496</td>\n",
       "    </tr>\n",
       "  </tbody>\n",
       "</table>\n",
       "</div>"
      ],
      "text/plain": [
       "            City      Lat       Lng  Max Temp  Humidity  Cloudiness  \\\n",
       "0  mar del plata -38.0023  -57.5575      6.72        72           0   \n",
       "1        rikitea -23.1203 -134.9692     22.09        67          62   \n",
       "2         albany  42.6001  -73.9662     16.07        79          95   \n",
       "3        ushuaia -54.8000  -68.3000      5.81        65          75   \n",
       "4      busselton -33.6500  115.3333     15.08        69          57   \n",
       "\n",
       "   Wind Speed Country        Date  \n",
       "0        3.09      AR  1686710353  \n",
       "1        4.49      PF  1686710498  \n",
       "2        0.95      US  1686710473  \n",
       "3        1.54      AR  1686710517  \n",
       "4        4.66      AU  1686710496  "
      ]
     },
     "execution_count": 7,
     "metadata": {},
     "output_type": "execute_result"
    }
   ],
   "source": [
    "# Display sample data\n",
    "city_data_df.head()"
   ]
  },
  {
   "cell_type": "code",
   "execution_count": 8,
   "metadata": {},
   "outputs": [],
   "source": [
    "# Export the City_Data into a csv\n",
    "city_data_df.to_csv(\"output data/mod_6_cities.csv\", index_label=\"City_ID\")"
   ]
  },
  {
   "cell_type": "code",
   "execution_count": 9,
   "metadata": {},
   "outputs": [
    {
     "data": {
      "text/html": [
       "<div>\n",
       "<style scoped>\n",
       "    .dataframe tbody tr th:only-of-type {\n",
       "        vertical-align: middle;\n",
       "    }\n",
       "\n",
       "    .dataframe tbody tr th {\n",
       "        vertical-align: top;\n",
       "    }\n",
       "\n",
       "    .dataframe thead th {\n",
       "        text-align: right;\n",
       "    }\n",
       "</style>\n",
       "<table border=\"1\" class=\"dataframe\">\n",
       "  <thead>\n",
       "    <tr style=\"text-align: right;\">\n",
       "      <th></th>\n",
       "      <th>City</th>\n",
       "      <th>Lat</th>\n",
       "      <th>Lng</th>\n",
       "      <th>Max Temp</th>\n",
       "      <th>Humidity</th>\n",
       "      <th>Cloudiness</th>\n",
       "      <th>Wind Speed</th>\n",
       "      <th>Country</th>\n",
       "      <th>Date</th>\n",
       "    </tr>\n",
       "    <tr>\n",
       "      <th>City_ID</th>\n",
       "      <th></th>\n",
       "      <th></th>\n",
       "      <th></th>\n",
       "      <th></th>\n",
       "      <th></th>\n",
       "      <th></th>\n",
       "      <th></th>\n",
       "      <th></th>\n",
       "      <th></th>\n",
       "    </tr>\n",
       "  </thead>\n",
       "  <tbody>\n",
       "    <tr>\n",
       "      <th>0</th>\n",
       "      <td>mar del plata</td>\n",
       "      <td>-38.0023</td>\n",
       "      <td>-57.5575</td>\n",
       "      <td>6.72</td>\n",
       "      <td>72</td>\n",
       "      <td>0</td>\n",
       "      <td>3.09</td>\n",
       "      <td>AR</td>\n",
       "      <td>1686710353</td>\n",
       "    </tr>\n",
       "    <tr>\n",
       "      <th>1</th>\n",
       "      <td>rikitea</td>\n",
       "      <td>-23.1203</td>\n",
       "      <td>-134.9692</td>\n",
       "      <td>22.09</td>\n",
       "      <td>67</td>\n",
       "      <td>62</td>\n",
       "      <td>4.49</td>\n",
       "      <td>PF</td>\n",
       "      <td>1686710498</td>\n",
       "    </tr>\n",
       "    <tr>\n",
       "      <th>2</th>\n",
       "      <td>albany</td>\n",
       "      <td>42.6001</td>\n",
       "      <td>-73.9662</td>\n",
       "      <td>16.07</td>\n",
       "      <td>79</td>\n",
       "      <td>95</td>\n",
       "      <td>0.95</td>\n",
       "      <td>US</td>\n",
       "      <td>1686710473</td>\n",
       "    </tr>\n",
       "    <tr>\n",
       "      <th>3</th>\n",
       "      <td>ushuaia</td>\n",
       "      <td>-54.8000</td>\n",
       "      <td>-68.3000</td>\n",
       "      <td>5.81</td>\n",
       "      <td>65</td>\n",
       "      <td>75</td>\n",
       "      <td>1.54</td>\n",
       "      <td>AR</td>\n",
       "      <td>1686710517</td>\n",
       "    </tr>\n",
       "    <tr>\n",
       "      <th>4</th>\n",
       "      <td>busselton</td>\n",
       "      <td>-33.6500</td>\n",
       "      <td>115.3333</td>\n",
       "      <td>15.08</td>\n",
       "      <td>69</td>\n",
       "      <td>57</td>\n",
       "      <td>4.66</td>\n",
       "      <td>AU</td>\n",
       "      <td>1686710496</td>\n",
       "    </tr>\n",
       "  </tbody>\n",
       "</table>\n",
       "</div>"
      ],
      "text/plain": [
       "                  City      Lat       Lng  Max Temp  Humidity  Cloudiness  \\\n",
       "City_ID                                                                     \n",
       "0        mar del plata -38.0023  -57.5575      6.72        72           0   \n",
       "1              rikitea -23.1203 -134.9692     22.09        67          62   \n",
       "2               albany  42.6001  -73.9662     16.07        79          95   \n",
       "3              ushuaia -54.8000  -68.3000      5.81        65          75   \n",
       "4            busselton -33.6500  115.3333     15.08        69          57   \n",
       "\n",
       "         Wind Speed Country        Date  \n",
       "City_ID                                  \n",
       "0              3.09      AR  1686710353  \n",
       "1              4.49      PF  1686710498  \n",
       "2              0.95      US  1686710473  \n",
       "3              1.54      AR  1686710517  \n",
       "4              4.66      AU  1686710496  "
      ]
     },
     "execution_count": 9,
     "metadata": {},
     "output_type": "execute_result"
    }
   ],
   "source": [
    "# Read saved data\n",
    "city_data_df = pd.read_csv(\"output data/mod_6_cities.csv\", index_col=\"City_ID\")\n",
    "\n",
    "# Display sample data\n",
    "city_data_df.head()"
   ]
  },
  {
   "cell_type": "markdown",
   "metadata": {},
   "source": [
    "### Create the Scatter Plots Requested\n",
    "\n",
    "#### Latitude Vs. Temperature"
   ]
  },
  {
   "cell_type": "code",
   "execution_count": 10,
   "metadata": {
    "tags": []
   },
   "outputs": [
    {
     "data": {
      "image/png": "[encoded data removed]",
      "text/plain": [
       "<Figure size 432x288 with 1 Axes>"
      ]
     },
     "metadata": {
      "needs_background": "light"
     },
     "output_type": "display_data"
    }
   ],
   "source": [
    "# Build scatter plot for latitude vs. temperature\n",
    "plt.scatter(city_data_df[\"Lat\"],city_data_df[\"Max Temp\"])\n",
    "\n",
    "# Incorporate the other graph properties\n",
    "plt.xlabel(\"Latitude\")\n",
    "plt.ylabel(\"Max Temperature\")\n",
    "\n",
    "# Save the figure\n",
    "plt.savefig(\"output data/Fig1.png\")\n",
    "\n",
    "# Show plot\n",
    "plt.show()"
   ]
  },
  {
   "cell_type": "markdown",
   "metadata": {},
   "source": [
    "#### Latitude Vs. Humidity"
   ]
  },
  {
   "cell_type": "code",
   "execution_count": 11,
   "metadata": {},
   "outputs": [
    {
     "data": {
      "image/png": "[encoded data removed]",
      "text/plain": [
       "<Figure size 432x288 with 1 Axes>"
      ]
     },
     "metadata": {
      "needs_background": "light"
     },
     "output_type": "display_data"
    }
   ],
   "source": [
    "# Build the scatter plots for latitude vs. humidity\n",
    "plt.scatter(city_data_df[\"Lat\"],city_data_df[\"Humidity\"])\n",
    "\n",
    "# Incorporate the other graph properties\n",
    "plt.xlabel(\"Latitude\")\n",
    "plt.ylabel(\"Humidity\")\n",
    "\n",
    "# Save the figure\n",
    "plt.savefig(\"output data/Fig2.png\")\n",
    "\n",
    "# Show plot\n",
    "plt.show()"
   ]
  },
  {
   "cell_type": "markdown",
   "metadata": {},
   "source": [
    "#### Latitude Vs. Cloudiness"
   ]
  },
  {
   "cell_type": "code",
   "execution_count": 12,
   "metadata": {},
   "outputs": [
    {
     "data": {
      "image/png": "[encoded data removed]",
      "text/plain": [
       "<Figure size 432x288 with 1 Axes>"
      ]
     },
     "metadata": {
      "needs_background": "light"
     },
     "output_type": "display_data"
    }
   ],
   "source": [
    "# Build the scatter plots for latitude vs. cloudiness\n",
    "plt.scatter(city_data_df[\"Lat\"],city_data_df[\"Cloudiness\"])\n",
    "\n",
    "# Incorporate the other graph properties\n",
    "plt.xlabel(\"Latitude\")\n",
    "plt.ylabel(\"Cloudiness\")\n",
    "\n",
    "# Save the figure\n",
    "plt.savefig(\"output data/Fig3.png\")\n",
    "\n",
    "# Show plot\n",
    "plt.show()"
   ]
  },
  {
   "cell_type": "markdown",
   "metadata": {},
   "source": [
    "#### Latitude vs. Wind Speed Plot"
   ]
  },
  {
   "cell_type": "code",
   "execution_count": 13,
   "metadata": {},
   "outputs": [
    {
     "data": {
      "image/png": "[encoded data removed]",
      "text/plain": [
       "<Figure size 432x288 with 1 Axes>"
      ]
     },
     "metadata": {
      "needs_background": "light"
     },
     "output_type": "display_data"
    }
   ],
   "source": [
    "# Build the scatter plots for latitude vs. wind speed\n",
    "plt.scatter(city_data_df[\"Lat\"],city_data_df[\"Wind Speed\"])\n",
    "\n",
    "# Incorporate the other graph properties\n",
    "plt.xlabel(\"Latitude\")\n",
    "plt.ylabel(\"Wind Speed\")\n",
    "\n",
    "# Save the figure\n",
    "plt.savefig(\"output data/Fig4.png\")\n",
    "\n",
    "# Show plot\n",
    "plt.show()"
   ]
  },
  {
   "cell_type": "markdown",
   "metadata": {},
   "source": [
    "---\n",
    "\n",
    "## Requirement 2: Compute Linear Regression for Each Relationship\n"
   ]
  },
  {
   "cell_type": "code",
   "execution_count": 14,
   "metadata": {},
   "outputs": [
    {
     "data": {
      "text/html": [
       "<div>\n",
       "<style scoped>\n",
       "    .dataframe tbody tr th:only-of-type {\n",
       "        vertical-align: middle;\n",
       "    }\n",
       "\n",
       "    .dataframe tbody tr th {\n",
       "        vertical-align: top;\n",
       "    }\n",
       "\n",
       "    .dataframe thead th {\n",
       "        text-align: right;\n",
       "    }\n",
       "</style>\n",
       "<table border=\"1\" class=\"dataframe\">\n",
       "  <thead>\n",
       "    <tr style=\"text-align: right;\">\n",
       "      <th></th>\n",
       "      <th>City</th>\n",
       "      <th>Lat</th>\n",
       "      <th>Lng</th>\n",
       "      <th>Max Temp</th>\n",
       "      <th>Humidity</th>\n",
       "      <th>Cloudiness</th>\n",
       "      <th>Wind Speed</th>\n",
       "      <th>Country</th>\n",
       "      <th>Date</th>\n",
       "    </tr>\n",
       "    <tr>\n",
       "      <th>City_ID</th>\n",
       "      <th></th>\n",
       "      <th></th>\n",
       "      <th></th>\n",
       "      <th></th>\n",
       "      <th></th>\n",
       "      <th></th>\n",
       "      <th></th>\n",
       "      <th></th>\n",
       "      <th></th>\n",
       "    </tr>\n",
       "  </thead>\n",
       "  <tbody>\n",
       "    <tr>\n",
       "      <th>2</th>\n",
       "      <td>albany</td>\n",
       "      <td>42.6001</td>\n",
       "      <td>-73.9662</td>\n",
       "      <td>16.07</td>\n",
       "      <td>79</td>\n",
       "      <td>95</td>\n",
       "      <td>0.95</td>\n",
       "      <td>US</td>\n",
       "      <td>1686710473</td>\n",
       "    </tr>\n",
       "    <tr>\n",
       "      <th>6</th>\n",
       "      <td>hilo</td>\n",
       "      <td>19.7297</td>\n",
       "      <td>-155.0900</td>\n",
       "      <td>25.85</td>\n",
       "      <td>76</td>\n",
       "      <td>100</td>\n",
       "      <td>5.14</td>\n",
       "      <td>US</td>\n",
       "      <td>1686710362</td>\n",
       "    </tr>\n",
       "    <tr>\n",
       "      <th>7</th>\n",
       "      <td>tasiilaq</td>\n",
       "      <td>65.6145</td>\n",
       "      <td>-37.6368</td>\n",
       "      <td>6.09</td>\n",
       "      <td>99</td>\n",
       "      <td>100</td>\n",
       "      <td>5.36</td>\n",
       "      <td>GL</td>\n",
       "      <td>1686710568</td>\n",
       "    </tr>\n",
       "    <tr>\n",
       "      <th>8</th>\n",
       "      <td>leningradskiy</td>\n",
       "      <td>69.3833</td>\n",
       "      <td>178.4167</td>\n",
       "      <td>-0.22</td>\n",
       "      <td>97</td>\n",
       "      <td>100</td>\n",
       "      <td>10.23</td>\n",
       "      <td>RU</td>\n",
       "      <td>1686710678</td>\n",
       "    </tr>\n",
       "    <tr>\n",
       "      <th>9</th>\n",
       "      <td>qaanaaq</td>\n",
       "      <td>77.4840</td>\n",
       "      <td>-69.3632</td>\n",
       "      <td>-3.77</td>\n",
       "      <td>85</td>\n",
       "      <td>31</td>\n",
       "      <td>1.96</td>\n",
       "      <td>GL</td>\n",
       "      <td>1686710500</td>\n",
       "    </tr>\n",
       "  </tbody>\n",
       "</table>\n",
       "</div>"
      ],
      "text/plain": [
       "                  City      Lat       Lng  Max Temp  Humidity  Cloudiness  \\\n",
       "City_ID                                                                     \n",
       "2               albany  42.6001  -73.9662     16.07        79          95   \n",
       "6                 hilo  19.7297 -155.0900     25.85        76         100   \n",
       "7             tasiilaq  65.6145  -37.6368      6.09        99         100   \n",
       "8        leningradskiy  69.3833  178.4167     -0.22        97         100   \n",
       "9              qaanaaq  77.4840  -69.3632     -3.77        85          31   \n",
       "\n",
       "         Wind Speed Country        Date  \n",
       "City_ID                                  \n",
       "2              0.95      US  1686710473  \n",
       "6              5.14      US  1686710362  \n",
       "7              5.36      GL  1686710568  \n",
       "8             10.23      RU  1686710678  \n",
       "9              1.96      GL  1686710500  "
      ]
     },
     "execution_count": 14,
     "metadata": {},
     "output_type": "execute_result"
    }
   ],
   "source": [
    "# Create a DataFrame with the Northern Hemisphere data (Latitude >= 0)\n",
    "north_hem_df = pd.DataFrame(city_data_df[city_data_df.Lat >0])\n",
    "\n",
    "# Display sample data\n",
    "north_hem_df.head()"
   ]
  },
  {
   "cell_type": "code",
   "execution_count": 15,
   "metadata": {},
   "outputs": [
    {
     "data": {
      "text/html": [
       "<div>\n",
       "<style scoped>\n",
       "    .dataframe tbody tr th:only-of-type {\n",
       "        vertical-align: middle;\n",
       "    }\n",
       "\n",
       "    .dataframe tbody tr th {\n",
       "        vertical-align: top;\n",
       "    }\n",
       "\n",
       "    .dataframe thead th {\n",
       "        text-align: right;\n",
       "    }\n",
       "</style>\n",
       "<table border=\"1\" class=\"dataframe\">\n",
       "  <thead>\n",
       "    <tr style=\"text-align: right;\">\n",
       "      <th></th>\n",
       "      <th>City</th>\n",
       "      <th>Lat</th>\n",
       "      <th>Lng</th>\n",
       "      <th>Max Temp</th>\n",
       "      <th>Humidity</th>\n",
       "      <th>Cloudiness</th>\n",
       "      <th>Wind Speed</th>\n",
       "      <th>Country</th>\n",
       "      <th>Date</th>\n",
       "    </tr>\n",
       "    <tr>\n",
       "      <th>City_ID</th>\n",
       "      <th></th>\n",
       "      <th></th>\n",
       "      <th></th>\n",
       "      <th></th>\n",
       "      <th></th>\n",
       "      <th></th>\n",
       "      <th></th>\n",
       "      <th></th>\n",
       "      <th></th>\n",
       "    </tr>\n",
       "  </thead>\n",
       "  <tbody>\n",
       "    <tr>\n",
       "      <th>0</th>\n",
       "      <td>mar del plata</td>\n",
       "      <td>-38.0023</td>\n",
       "      <td>-57.5575</td>\n",
       "      <td>6.72</td>\n",
       "      <td>72</td>\n",
       "      <td>0</td>\n",
       "      <td>3.09</td>\n",
       "      <td>AR</td>\n",
       "      <td>1686710353</td>\n",
       "    </tr>\n",
       "    <tr>\n",
       "      <th>1</th>\n",
       "      <td>rikitea</td>\n",
       "      <td>-23.1203</td>\n",
       "      <td>-134.9692</td>\n",
       "      <td>22.09</td>\n",
       "      <td>67</td>\n",
       "      <td>62</td>\n",
       "      <td>4.49</td>\n",
       "      <td>PF</td>\n",
       "      <td>1686710498</td>\n",
       "    </tr>\n",
       "    <tr>\n",
       "      <th>3</th>\n",
       "      <td>ushuaia</td>\n",
       "      <td>-54.8000</td>\n",
       "      <td>-68.3000</td>\n",
       "      <td>5.81</td>\n",
       "      <td>65</td>\n",
       "      <td>75</td>\n",
       "      <td>1.54</td>\n",
       "      <td>AR</td>\n",
       "      <td>1686710517</td>\n",
       "    </tr>\n",
       "    <tr>\n",
       "      <th>4</th>\n",
       "      <td>busselton</td>\n",
       "      <td>-33.6500</td>\n",
       "      <td>115.3333</td>\n",
       "      <td>15.08</td>\n",
       "      <td>69</td>\n",
       "      <td>57</td>\n",
       "      <td>4.66</td>\n",
       "      <td>AU</td>\n",
       "      <td>1686710496</td>\n",
       "    </tr>\n",
       "    <tr>\n",
       "      <th>5</th>\n",
       "      <td>vaini</td>\n",
       "      <td>-21.2000</td>\n",
       "      <td>-175.2000</td>\n",
       "      <td>24.09</td>\n",
       "      <td>69</td>\n",
       "      <td>40</td>\n",
       "      <td>2.06</td>\n",
       "      <td>TO</td>\n",
       "      <td>1686710576</td>\n",
       "    </tr>\n",
       "  </tbody>\n",
       "</table>\n",
       "</div>"
      ],
      "text/plain": [
       "                  City      Lat       Lng  Max Temp  Humidity  Cloudiness  \\\n",
       "City_ID                                                                     \n",
       "0        mar del plata -38.0023  -57.5575      6.72        72           0   \n",
       "1              rikitea -23.1203 -134.9692     22.09        67          62   \n",
       "3              ushuaia -54.8000  -68.3000      5.81        65          75   \n",
       "4            busselton -33.6500  115.3333     15.08        69          57   \n",
       "5                vaini -21.2000 -175.2000     24.09        69          40   \n",
       "\n",
       "         Wind Speed Country        Date  \n",
       "City_ID                                  \n",
       "0              3.09      AR  1686710353  \n",
       "1              4.49      PF  1686710498  \n",
       "3              1.54      AR  1686710517  \n",
       "4              4.66      AU  1686710496  \n",
       "5              2.06      TO  1686710576  "
      ]
     },
     "execution_count": 15,
     "metadata": {},
     "output_type": "execute_result"
    }
   ],
   "source": [
    "# Create a DataFrame with the Southern Hemisphere data (Latitude < 0)\n",
    "south_hem_df = pd.DataFrame(city_data_df[city_data_df.Lat <0])\n",
    "\n",
    "# Display sample data\n",
    "south_hem_df.head()"
   ]
  },
  {
   "cell_type": "code",
   "execution_count": 67,
   "metadata": {},
   "outputs": [],
   "source": [
    "# Define a function to create Linear Regression plots\n",
    "\n",
    "def linear_regression(x,y):\n",
    "    p_slope, p_int, p_r, p_p, p_std_err = st.linregress(x,y)\n",
    "    p_y = p_slope * x + p_int\n",
    "    plt.plot(x,p_y,\"--\")\n",
    "    plt.scatter(x,y)\n",
    "    line_eq = \"y = \" + str(round(p_slope,2)) + \"x + \" + str(round(p_int,2))\n",
    "    plt.annotate(line_eq,(5.8,0.8),xytext=(-5,8),fontsize=15,color=\"red\")"
   ]
  },
  {
   "cell_type": "markdown",
   "metadata": {},
   "source": [
    "###  Temperature vs. Latitude Linear Regression Plot"
   ]
  },
  {
   "cell_type": "code",
   "execution_count": 68,
   "metadata": {},
   "outputs": [
    {
     "data": {
      "text/plain": [
       "Text(0, 0.5, 'Latitude')"
      ]
     },
     "execution_count": 68,
     "metadata": {},
     "output_type": "execute_result"
    },
    {
     "data": {
      "image/png": "[encoded data removed]",
      "text/plain": [
       "<Figure size 432x288 with 1 Axes>"
      ]
     },
     "metadata": {
      "needs_background": "light"
     },
     "output_type": "display_data"
    }
   ],
   "source": [
    "# Linear regression on Northern Hemisphere\n",
    "linear_regression(north_hem_df[\"Max Temp\"],north_hem_df[\"Lat\"])\n",
    "plt.xlabel(\"Max Temperature\")\n",
    "plt.ylabel(\"Latitude\")"
   ]
  },
  {
   "cell_type": "code",
   "execution_count": 69,
   "metadata": {},
   "outputs": [
    {
     "data": {
      "text/plain": [
       "Text(0, 0.5, 'Latitude')"
      ]
     },
     "execution_count": 69,
     "metadata": {},
     "output_type": "execute_result"
    },
    {
     "data": {
      "image/png": "[encoded data removed]",
      "text/plain": [
       "<Figure size 432x288 with 1 Axes>"
      ]
     },
     "metadata": {
      "needs_background": "light"
     },
     "output_type": "display_data"
    }
   ],
   "source": [
    "# Linear regression on Southern Hemisphere\n",
    "linear_regression(south_hem_df[\"Max Temp\"],south_hem_df[\"Lat\"])\n",
    "plt.xlabel(\"Max Temperature\")\n",
    "plt.ylabel(\"Latitude\")"
   ]
  },
  {
   "cell_type": "markdown",
   "metadata": {},
   "source": [
    "**Discussion about the linear relationship:** YOUR RESPONSE HERE"
   ]
  },
  {
   "cell_type": "markdown",
   "metadata": {},
   "source": [
    "### Humidity vs. Latitude Linear Regression Plot"
   ]
  },
  {
   "cell_type": "code",
   "execution_count": 70,
   "metadata": {},
   "outputs": [
    {
     "data": {
      "text/plain": [
       "Text(0, 0.5, 'Latitude')"
      ]
     },
     "execution_count": 70,
     "metadata": {},
     "output_type": "execute_result"
    },
    {
     "data": {
      "image/png": "[encoded data removed]",
      "text/plain": [
       "<Figure size 432x288 with 1 Axes>"
      ]
     },
     "metadata": {
      "needs_background": "light"
     },
     "output_type": "display_data"
    }
   ],
   "source": [
    "# Northern Hemisphere\n",
    "linear_regression(north_hem_df[\"Humidity\"],north_hem_df[\"Lat\"])\n",
    "plt.xlabel(\"Humidity\")\n",
    "plt.ylabel(\"Latitude\")"
   ]
  },
  {
   "cell_type": "code",
   "execution_count": 71,
   "metadata": {},
   "outputs": [
    {
     "data": {
      "text/plain": [
       "Text(0, 0.5, 'Latitude')"
      ]
     },
     "execution_count": 71,
     "metadata": {},
     "output_type": "execute_result"
    },
    {
     "data": {
      "image/png": "[encoded data removed]",
      "text/plain": [
       "<Figure size 432x288 with 1 Axes>"
      ]
     },
     "metadata": {
      "needs_background": "light"
     },
     "output_type": "display_data"
    }
   ],
   "source": [
    "# Southern Hemisphere\n",
    "linear_regression(south_hem_df[\"Humidity\"],south_hem_df[\"Lat\"])\n",
    "plt.xlabel(\"Humidity\")\n",
    "plt.ylabel(\"Latitude\")"
   ]
  },
  {
   "cell_type": "markdown",
   "metadata": {},
   "source": [
    "**Discussion about the linear relationship:** YOUR RESPONSE HERE"
   ]
  },
  {
   "cell_type": "markdown",
   "metadata": {},
   "source": [
    "### Cloudiness vs. Latitude Linear Regression Plot"
   ]
  },
  {
   "cell_type": "code",
   "execution_count": 72,
   "metadata": {},
   "outputs": [
    {
     "data": {
      "text/plain": [
       "Text(0, 0.5, 'Latitude')"
      ]
     },
     "execution_count": 72,
     "metadata": {},
     "output_type": "execute_result"
    },
    {
     "data": {
      "image/png": "[encoded data removed]",
      "text/plain": [
       "<Figure size 432x288 with 1 Axes>"
      ]
     },
     "metadata": {
      "needs_background": "light"
     },
     "output_type": "display_data"
    }
   ],
   "source": [
    "# Northern Hemisphere\n",
    "linear_regression(north_hem_df[\"Cloudiness\"],north_hem_df[\"Lat\"])\n",
    "plt.xlabel(\"Cloudiness\")\n",
    "plt.ylabel(\"Latitude\")"
   ]
  },
  {
   "cell_type": "code",
   "execution_count": 73,
   "metadata": {},
   "outputs": [
    {
     "data": {
      "text/plain": [
       "Text(0, 0.5, 'Latitude')"
      ]
     },
     "execution_count": 73,
     "metadata": {},
     "output_type": "execute_result"
    },
    {
     "data": {
      "image/png": "[encoded data removed]",
      "text/plain": [
       "<Figure size 432x288 with 1 Axes>"
      ]
     },
     "metadata": {
      "needs_background": "light"
     },
     "output_type": "display_data"
    }
   ],
   "source": [
    "# Southern Hemisphere\n",
    "linear_regression(south_hem_df[\"Cloudiness\"],south_hem_df[\"Lat\"])\n",
    "plt.xlabel(\"Cloudiness\")\n",
    "plt.ylabel(\"Latitude\")"
   ]
  },
  {
   "cell_type": "markdown",
   "metadata": {},
   "source": [
    "**Discussion about the linear relationship:** YOUR RESPONSE HERE"
   ]
  },
  {
   "cell_type": "markdown",
   "metadata": {},
   "source": [
    "### Wind Speed vs. Latitude Linear Regression Plot"
   ]
  },
  {
   "cell_type": "code",
   "execution_count": 74,
   "metadata": {},
   "outputs": [
    {
     "data": {
      "text/plain": [
       "Text(0, 0.5, 'Latitude')"
      ]
     },
     "execution_count": 74,
     "metadata": {},
     "output_type": "execute_result"
    },
    {
     "data": {
      "image/png": "[encoded data removed]",
      "text/plain": [
       "<Figure size 432x288 with 1 Axes>"
      ]
     },
     "metadata": {
      "needs_background": "light"
     },
     "output_type": "display_data"
    }
   ],
   "source": [
    "# Northern Hemisphere\n",
    "linear_regression(north_hem_df[\"Wind Speed\"],north_hem_df[\"Lat\"])\n",
    "plt.xlabel(\"Wind Speed\")\n",
    "plt.ylabel(\"Latitude\")"
   ]
  },
  {
   "cell_type": "code",
   "execution_count": 75,
   "metadata": {},
   "outputs": [
    {
     "data": {
      "text/plain": [
       "Text(0, 0.5, 'Latitude')"
      ]
     },
     "execution_count": 75,
     "metadata": {},
     "output_type": "execute_result"
    },
    {
     "data": {
      "image/png": "[encoded data removed]",
      "text/plain": [
       "<Figure size 432x288 with 1 Axes>"
      ]
     },
     "metadata": {
      "needs_background": "light"
     },
     "output_type": "display_data"
    }
   ],
   "source": [
    "# Southern Hemisphere\n",
    "linear_regression(south_hem_df[\"Wind Speed\"],south_hem_df[\"Lat\"])\n",
    "plt.xlabel(\"Wind Speed\")\n",
    "plt.ylabel(\"Latitude\")"
   ]
  },
  {
   "cell_type": "markdown",
   "metadata": {},
   "source": [
    "**Discussion about the linear relationship:** YOUR RESPONSE HERE"
   ]
  },
  {
   "cell_type": "code",
   "execution_count": null,
   "metadata": {},
   "outputs": [],
   "source": []
  }
 ],
 "metadata": {
  "anaconda-cloud": {},
  "kernel_info": {
   "name": "python3"
  },
  "kernelspec": {
   "display_name": "PythonData",
   "language": "python",
   "name": "pythondata"
  },
  "language_info": {
   "codemirror_mode": {
    "name": "ipython",
    "version": 3
   },
   "file_extension": ".py",
   "mimetype": "text/x-python",
   "name": "python",
   "nbconvert_exporter": "python",
   "pygments_lexer": "ipython3",
   "version": "3.7.7"
  },
  "latex_envs": {
   "LaTeX_envs_menu_present": true,
   "autoclose": false,
   "autocomplete": true,
   "bibliofile": "biblio.bib",
   "cite_by": "apalike",
   "current_citInitial": 1,
   "eqLabelWithNumbers": true,
   "eqNumInitial": 1,
   "hotkeys": {
    "equation": "Ctrl-E",
    "itemize": "Ctrl-I"
   },
   "labels_anchors": false,
   "latex_user_defs": false,
   "report_style_numbering": false,
   "user_envs_cfg": false
  },
  "nteract": {
   "version": "0.12.3"
  }
 },
 "nbformat": 4,
 "nbformat_minor": 4
}
