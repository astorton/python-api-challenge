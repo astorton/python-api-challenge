{
 "cells": [
  {
   "cell_type": "markdown",
   "metadata": {},
   "source": [
    "# WeatherPy"
   ]
  },
  {
   "cell_type": "code",
   "execution_count": 1,
   "metadata": {
    "scrolled": true
   },
   "outputs": [],
   "source": [
    "# Dependencies and Setup\n",
    "import matplotlib.pyplot as plt\n",
    "import pandas as pd\n",
    "import numpy as np\n",
    "import requests\n",
    "import time\n",
    "import scipy.stats as st\n",
    "\n",
    "# Impor the OpenWeatherMap API key\n",
    "from api_keys import weather_api_key\n",
    "\n",
    "# Import citipy to determine the cities based on latitude and longitude\n",
    "from citipy import citipy"
   ]
  },
  {
   "cell_type": "code",
   "execution_count": 2,
   "metadata": {},
   "outputs": [
    {
     "name": "stdout",
     "output_type": "stream",
     "text": [
      "Number of cities in the list: 603\n"
     ]
    }
   ],
   "source": [
    "# Empty list for holding the latitude and longitude combinations\n",
    "lat_lngs = []\n",
    "\n",
    "# Empty list for holding the cities names\n",
    "cities = []\n",
    "\n",
    "# Range of latitudes and longitudes\n",
    "lat_range = (-90, 90)\n",
    "lng_range = (-180, 180)\n",
    "\n",
    "# Create a set of random lat and lng combinations\n",
    "lats = np.random.uniform(lat_range[0], lat_range[1], size=1500)\n",
    "lngs = np.random.uniform(lng_range[0], lng_range[1], size=1500)\n",
    "lat_lngs = zip(lats, lngs)\n",
    "\n",
    "# Identify nearest city for each lat, lng combination\n",
    "for lat_lng in lat_lngs:\n",
    "    city = citipy.nearest_city(lat_lng[0], lat_lng[1]).city_name\n",
    "    \n",
    "    # If the city is unique, then add it to a our cities list\n",
    "    if city not in cities:\n",
    "        cities.append(city)\n",
    "\n",
    "# Print the city count to confirm sufficient count\n",
    "print(f\"Number of cities in the list: {len(cities)}\")\n"
   ]
  },
  {
   "cell_type": "code",
   "execution_count": 3,
   "metadata": {},
   "outputs": [
    {
     "name": "stdout",
     "output_type": "stream",
     "text": [
      "ixtapa\n"
     ]
    }
   ],
   "source": [
    "#verify that code ran successfully\n",
    "print(cities[233])"
   ]
  },
  {
   "cell_type": "code",
   "execution_count": 4,
   "metadata": {},
   "outputs": [
    {
     "name": "stdout",
     "output_type": "stream",
     "text": [
      "https://api.openweathermap.org/data/2.5/weather?units=Metric&APPID=0bab3b5c406d499a94d0b25cdeeaf7a4\n"
     ]
    }
   ],
   "source": [
    "base_url = f\"https://api.openweathermap.org/data/2.5/weather?units=Metric&APPID={weather_api_key}\"\n",
    "print(base_url)"
   ]
  },
  {
   "cell_type": "markdown",
   "metadata": {},
   "source": [
    "---"
   ]
  },
  {
   "cell_type": "code",
   "execution_count": 5,
   "metadata": {},
   "outputs": [
    {
     "name": "stdout",
     "output_type": "stream",
     "text": [
      "Beginning Data Retrieval     \n",
      "-----------------------------\n",
      "Processing Record 1 of Set 1 | constitucion\n",
      "Processing Record 2 of Set 1 | ushuaia\n",
      "Processing Record 3 of Set 1 | katobu\n",
      "Processing Record 4 of Set 1 | bluff\n",
      "Processing Record 5 of Set 1 | egvekinot\n",
      "Processing Record 6 of Set 1 | hue\n",
      "Processing Record 7 of Set 1 | tura\n",
      "Processing Record 8 of Set 1 | busselton\n",
      "Processing Record 9 of Set 1 | catuday\n",
      "Processing Record 10 of Set 1 | punta arenas\n",
      "Processing Record 11 of Set 1 | puerto ayora\n",
      "Processing Record 12 of Set 1 | rikitea\n",
      "Processing Record 13 of Set 1 | avarua\n",
      "Processing Record 14 of Set 1 | mataura\n",
      "Processing Record 15 of Set 1 | coolum beach\n",
      "Processing Record 16 of Set 1 | nizhniy baskunchak\n",
      "Processing Record 17 of Set 1 | victoria\n",
      "Processing Record 18 of Set 1 | illoqqortoormiut\n",
      "'coord'\n",
      "Processing Record 19 of Set 1 | narsaq\n",
      "Processing Record 20 of Set 1 | yar-sale\n",
      "Processing Record 21 of Set 1 | hami\n",
      "Processing Record 22 of Set 1 | adrar\n",
      "Processing Record 23 of Set 1 | mehamn\n",
      "Processing Record 24 of Set 1 | sitka\n",
      "Processing Record 25 of Set 1 | carnarvon\n",
      "Processing Record 26 of Set 1 | new norfolk\n",
      "Processing Record 27 of Set 1 | yellowknife\n",
      "Processing Record 28 of Set 1 | lorengau\n",
      "Processing Record 29 of Set 1 | airai\n",
      "Processing Record 30 of Set 1 | port hardy\n",
      "Processing Record 31 of Set 1 | cape town\n",
      "Processing Record 32 of Set 1 | taolanaro\n",
      "'coord'\n",
      "Processing Record 33 of Set 1 | esperance\n",
      "Processing Record 34 of Set 1 | lebu\n",
      "Processing Record 35 of Set 1 | hilo\n",
      "Processing Record 36 of Set 1 | malwan\n",
      "'coord'\n",
      "Processing Record 37 of Set 1 | vardo\n",
      "Processing Record 38 of Set 1 | nanortalik\n",
      "Processing Record 39 of Set 1 | nikki\n",
      "Processing Record 40 of Set 1 | tarrafal\n",
      "Processing Record 41 of Set 1 | arraial do cabo\n",
      "Processing Record 42 of Set 1 | hithadhoo\n",
      "Processing Record 43 of Set 1 | baykit\n",
      "Processing Record 44 of Set 1 | bahia de caraquez\n",
      "Processing Record 45 of Set 1 | sorong\n",
      "Processing Record 46 of Set 1 | coquimbo\n",
      "Processing Record 47 of Set 1 | barrow\n",
      "Processing Record 48 of Set 1 | koumac\n",
      "Processing Record 49 of Set 1 | san cristobal\n",
      "Processing Record 50 of Set 1 | jamestown\n",
      "Processing Record 0 of Set 2 | chancay\n",
      "Processing Record 1 of Set 2 | guerrero negro\n",
      "Processing Record 2 of Set 2 | atuona\n",
      "Processing Record 3 of Set 2 | vaini\n",
      "Processing Record 4 of Set 2 | tasiilaq\n",
      "Processing Record 5 of Set 2 | finschhafen\n",
      "Processing Record 6 of Set 2 | hofn\n",
      "Processing Record 7 of Set 2 | owando\n",
      "Processing Record 8 of Set 2 | arlit\n",
      "Processing Record 9 of Set 2 | chokurdakh\n",
      "Processing Record 10 of Set 2 | lasa\n",
      "Processing Record 11 of Set 2 | andevoranto\n",
      "'coord'\n",
      "Processing Record 12 of Set 2 | redwater\n",
      "Processing Record 13 of Set 2 | san carlos de bariloche\n",
      "Processing Record 14 of Set 2 | vestbygda\n",
      "'coord'\n",
      "Processing Record 15 of Set 2 | codrington\n",
      "Processing Record 16 of Set 2 | khatanga\n",
      "Processing Record 17 of Set 2 | naron\n",
      "Processing Record 18 of Set 2 | faanui\n",
      "Processing Record 19 of Set 2 | boda\n",
      "Processing Record 20 of Set 2 | arua\n",
      "Processing Record 21 of Set 2 | acajutla\n",
      "Processing Record 22 of Set 2 | matagami\n",
      "Processing Record 23 of Set 2 | igboho\n",
      "Processing Record 24 of Set 2 | hobart\n",
      "Processing Record 25 of Set 2 | quatre cocos\n",
      "Processing Record 26 of Set 2 | provideniya\n",
      "Processing Record 27 of Set 2 | port alfred\n",
      "Processing Record 28 of Set 2 | lata\n",
      "Processing Record 29 of Set 2 | roma\n",
      "Processing Record 30 of Set 2 | attawapiskat\n",
      "'coord'\n",
      "Processing Record 31 of Set 2 | nikolskoye\n",
      "Processing Record 32 of Set 2 | arco\n",
      "Processing Record 33 of Set 2 | bambous virieux\n",
      "Processing Record 34 of Set 2 | tortoli\n",
      "Processing Record 35 of Set 2 | opuwo\n",
      "Processing Record 36 of Set 2 | ribas do rio pardo\n",
      "Processing Record 37 of Set 2 | marcona\n",
      "'coord'\n",
      "Processing Record 38 of Set 2 | vaitupu\n",
      "'coord'\n",
      "Processing Record 39 of Set 2 | yelan\n",
      "Processing Record 40 of Set 2 | samusu\n",
      "'coord'\n",
      "Processing Record 41 of Set 2 | puerto escondido\n",
      "Processing Record 42 of Set 2 | minna\n",
      "Processing Record 43 of Set 2 | esmeraldas\n",
      "Processing Record 44 of Set 2 | albany\n",
      "Processing Record 45 of Set 2 | belushya guba\n",
      "'coord'\n",
      "Processing Record 46 of Set 2 | butaritari\n",
      "Processing Record 47 of Set 2 | amderma\n",
      "'coord'\n",
      "Processing Record 48 of Set 2 | marzuq\n",
      "Processing Record 49 of Set 2 | port elizabeth\n",
      "Processing Record 0 of Set 3 | palana\n",
      "Processing Record 1 of Set 3 | ostrovnoy\n",
      "Processing Record 2 of Set 3 | kankavli\n",
      "'coord'\n",
      "Processing Record 3 of Set 3 | saldanha\n",
      "Processing Record 4 of Set 3 | ahipara\n",
      "Processing Record 5 of Set 3 | mackay\n",
      "Processing Record 6 of Set 3 | katsuura\n",
      "Processing Record 7 of Set 3 | aklavik\n",
      "Processing Record 8 of Set 3 | varadero\n",
      "Processing Record 9 of Set 3 | san pedro\n",
      "Processing Record 10 of Set 3 | el alto\n",
      "Processing Record 11 of Set 3 | eagle\n",
      "Processing Record 12 of Set 3 | geraldton\n",
      "Processing Record 13 of Set 3 | nome\n",
      "Processing Record 14 of Set 3 | kavieng\n",
      "Processing Record 15 of Set 3 | puerto lopez\n",
      "Processing Record 16 of Set 3 | paracuru\n",
      "Processing Record 17 of Set 3 | pimenta bueno\n",
      "Processing Record 18 of Set 3 | ancud\n",
      "Processing Record 19 of Set 3 | manaus\n",
      "Processing Record 20 of Set 3 | ponta do sol\n",
      "Processing Record 21 of Set 3 | sept-iles\n",
      "Processing Record 22 of Set 3 | abu dhabi\n",
      "Processing Record 23 of Set 3 | amapa\n",
      "Processing Record 24 of Set 3 | thompson\n",
      "Processing Record 25 of Set 3 | saint-philippe\n",
      "Processing Record 26 of Set 3 | bacuit\n",
      "'coord'\n",
      "Processing Record 27 of Set 3 | yulara\n",
      "Processing Record 28 of Set 3 | castro\n",
      "Processing Record 29 of Set 3 | itoman\n",
      "Processing Record 30 of Set 3 | kualakapuas\n",
      "Processing Record 31 of Set 3 | crotone\n",
      "Processing Record 32 of Set 3 | tuktoyaktuk\n",
      "Processing Record 33 of Set 3 | orlik\n",
      "Processing Record 34 of Set 3 | khairpur\n",
      "Processing Record 35 of Set 3 | padang\n",
      "Processing Record 36 of Set 3 | kodiak\n",
      "Processing Record 37 of Set 3 | upernavik\n",
      "Processing Record 38 of Set 3 | sataua\n",
      "'coord'\n",
      "Processing Record 39 of Set 3 | ambilobe\n",
      "Processing Record 40 of Set 3 | popondetta\n",
      "Processing Record 41 of Set 3 | portneuf\n",
      "Processing Record 42 of Set 3 | lazaro cardenas\n",
      "Processing Record 43 of Set 3 | bubaque\n",
      "Processing Record 44 of Set 3 | preobrazheniye\n",
      "Processing Record 45 of Set 3 | hamilton\n",
      "Processing Record 46 of Set 3 | golkoy\n",
      "Processing Record 47 of Set 3 | wanparti\n",
      "Processing Record 48 of Set 3 | macherla\n",
      "Processing Record 49 of Set 3 | pisco\n",
      "Processing Record 0 of Set 4 | wynyard\n",
      "Processing Record 1 of Set 4 | chuy\n",
      "Processing Record 2 of Set 4 | saleaula\n",
      "'coord'\n",
      "Processing Record 3 of Set 4 | half moon bay\n",
      "Processing Record 4 of Set 4 | senno\n",
      "Processing Record 5 of Set 4 | asayita\n",
      "'coord'\n",
      "Processing Record 6 of Set 4 | barentsburg\n",
      "'coord'\n",
      "Processing Record 7 of Set 4 | bredasdorp\n",
      "Processing Record 8 of Set 4 | mar del plata\n",
      "Processing Record 9 of Set 4 | esna\n",
      "Processing Record 10 of Set 4 | tromso\n",
      "Processing Record 11 of Set 4 | karauzyak\n",
      "'coord'\n",
      "Processing Record 12 of Set 4 | pevek\n",
      "Processing Record 13 of Set 4 | camacha\n",
      "Processing Record 14 of Set 4 | pringsewu\n",
      "Processing Record 15 of Set 4 | berlevag\n",
      "Processing Record 16 of Set 4 | wilmington\n",
      "Processing Record 17 of Set 4 | talnakh\n",
      "Processing Record 18 of Set 4 | hihifo\n",
      "'coord'\n",
      "Processing Record 19 of Set 4 | kapaa\n",
      "Processing Record 20 of Set 4 | walvis bay\n",
      "Processing Record 21 of Set 4 | qaanaaq\n",
      "Processing Record 22 of Set 4 | esil\n",
      "Processing Record 23 of Set 4 | yorkton\n",
      "Processing Record 24 of Set 4 | necochea\n",
      "Processing Record 25 of Set 4 | severo-kurilsk\n",
      "Processing Record 26 of Set 4 | olafsvik\n",
      "Processing Record 27 of Set 4 | yumen\n",
      "Processing Record 28 of Set 4 | pula\n",
      "Processing Record 29 of Set 4 | castlegar\n",
      "Processing Record 30 of Set 4 | tyret pervaya\n",
      "Processing Record 31 of Set 4 | northam\n",
      "Processing Record 32 of Set 4 | sheridan\n",
      "Processing Record 33 of Set 4 | ribeira grande\n",
      "Processing Record 34 of Set 4 | hermanus\n",
      "Processing Record 35 of Set 4 | pedernales\n",
      "Processing Record 36 of Set 4 | san patricio\n",
      "Processing Record 37 of Set 4 | saint george\n",
      "Processing Record 38 of Set 4 | tuzha\n",
      "Processing Record 39 of Set 4 | salalah\n",
      "Processing Record 40 of Set 4 | goderich\n",
      "Processing Record 41 of Set 4 | curuca\n",
      "Processing Record 42 of Set 4 | laguna\n",
      "Processing Record 43 of Set 4 | selikhino\n",
      "Processing Record 44 of Set 4 | saskylakh\n"
     ]
    },
    {
     "name": "stdout",
     "output_type": "stream",
     "text": [
      "Processing Record 45 of Set 4 | ugoofaaru\n",
      "Processing Record 46 of Set 4 | mys shmidta\n",
      "'coord'\n",
      "Processing Record 47 of Set 4 | broken hill\n",
      "Processing Record 48 of Set 4 | fuerte\n",
      "Processing Record 49 of Set 4 | haines junction\n",
      "Processing Record 0 of Set 5 | east london\n",
      "Processing Record 1 of Set 5 | saint anthony\n",
      "Processing Record 2 of Set 5 | tual\n",
      "Processing Record 3 of Set 5 | cidreira\n",
      "Processing Record 4 of Set 5 | warqla\n",
      "'coord'\n",
      "Processing Record 5 of Set 5 | meulaboh\n",
      "Processing Record 6 of Set 5 | kaitangata\n",
      "Processing Record 7 of Set 5 | skogn\n",
      "Processing Record 8 of Set 5 | mareeba\n",
      "Processing Record 9 of Set 5 | port lincoln\n",
      "Processing Record 10 of Set 5 | santa isabel\n",
      "Processing Record 11 of Set 5 | vila velha\n",
      "Processing Record 12 of Set 5 | poli\n",
      "Processing Record 13 of Set 5 | bolungarvik\n",
      "'coord'\n",
      "Processing Record 14 of Set 5 | formoso do araguaia\n",
      "'coord'\n",
      "Processing Record 15 of Set 5 | okhotsk\n",
      "Processing Record 16 of Set 5 | torbay\n",
      "Processing Record 17 of Set 5 | bud\n",
      "Processing Record 18 of Set 5 | harnosand\n",
      "Processing Record 19 of Set 5 | ust-nera\n",
      "Processing Record 20 of Set 5 | cartaya\n",
      "Processing Record 21 of Set 5 | xining\n",
      "Processing Record 22 of Set 5 | mao\n",
      "Processing Record 23 of Set 5 | namibe\n",
      "Processing Record 24 of Set 5 | kieta\n",
      "Processing Record 25 of Set 5 | bocas del toro\n",
      "Processing Record 26 of Set 5 | kuching\n",
      "Processing Record 27 of Set 5 | buraydah\n",
      "Processing Record 28 of Set 5 | moundou\n",
      "Processing Record 29 of Set 5 | jeremoabo\n",
      "Processing Record 30 of Set 5 | santarem\n",
      "Processing Record 31 of Set 5 | springdale\n",
      "Processing Record 32 of Set 5 | longyearbyen\n",
      "Processing Record 33 of Set 5 | ixtapa\n",
      "Processing Record 34 of Set 5 | tsihombe\n",
      "'coord'\n",
      "Processing Record 35 of Set 5 | lompoc\n",
      "Processing Record 36 of Set 5 | luderitz\n",
      "Processing Record 37 of Set 5 | kapuskasing\n",
      "Processing Record 38 of Set 5 | nkongsamba\n",
      "Processing Record 39 of Set 5 | talaya\n",
      "Processing Record 40 of Set 5 | antsla\n",
      "Processing Record 41 of Set 5 | tateyama\n",
      "Processing Record 42 of Set 5 | ondangwa\n",
      "Processing Record 43 of Set 5 | kokopo\n",
      "Processing Record 44 of Set 5 | victoria point\n",
      "Processing Record 45 of Set 5 | novovasylivka\n",
      "Processing Record 46 of Set 5 | hasaki\n",
      "Processing Record 47 of Set 5 | tessalit\n",
      "Processing Record 48 of Set 5 | yaan\n",
      "Processing Record 49 of Set 5 | deputatskiy\n",
      "Processing Record 0 of Set 6 | shingu\n",
      "Processing Record 1 of Set 6 | tabou\n",
      "Processing Record 2 of Set 6 | khonuu\n",
      "'coord'\n",
      "Processing Record 3 of Set 6 | kaka\n",
      "Processing Record 4 of Set 6 | nowy dwor gdanski\n",
      "Processing Record 5 of Set 6 | baruun-urt\n",
      "Processing Record 6 of Set 6 | vostok\n",
      "Processing Record 7 of Set 6 | esso\n",
      "Processing Record 8 of Set 6 | sabha\n",
      "Processing Record 9 of Set 6 | sarakhs\n",
      "Processing Record 10 of Set 6 | lagoa\n",
      "Processing Record 11 of Set 6 | college\n",
      "Processing Record 12 of Set 6 | grindavik\n",
      "Processing Record 13 of Set 6 | den helder\n",
      "Processing Record 14 of Set 6 | havre-saint-pierre\n",
      "Processing Record 15 of Set 6 | iqaluit\n",
      "Processing Record 16 of Set 6 | muzhi\n",
      "Processing Record 17 of Set 6 | qasigiannguit\n",
      "Processing Record 18 of Set 6 | caravelas\n",
      "Processing Record 19 of Set 6 | alexandria\n",
      "Processing Record 20 of Set 6 | shamgarh\n",
      "Processing Record 21 of Set 6 | maceio\n",
      "Processing Record 22 of Set 6 | lavrentiya\n",
      "Processing Record 23 of Set 6 | kaeo\n",
      "Processing Record 24 of Set 6 | grand river south east\n",
      "'coord'\n",
      "Processing Record 25 of Set 6 | bengkulu\n",
      "Processing Record 26 of Set 6 | lang son\n",
      "Processing Record 27 of Set 6 | dryden\n",
      "Processing Record 28 of Set 6 | tupik\n",
      "Processing Record 29 of Set 6 | kaura namoda\n",
      "Processing Record 30 of Set 6 | tabuk\n",
      "Processing Record 31 of Set 6 | kruisfontein\n",
      "Processing Record 32 of Set 6 | barranca\n",
      "Processing Record 33 of Set 6 | yelizovo\n",
      "Processing Record 34 of Set 6 | san quintin\n",
      "Processing Record 35 of Set 6 | dikson\n",
      "Processing Record 36 of Set 6 | saint-pierre\n",
      "Processing Record 37 of Set 6 | sabang\n",
      "Processing Record 38 of Set 6 | te anau\n",
      "Processing Record 39 of Set 6 | beringovskiy\n",
      "Processing Record 40 of Set 6 | changji\n",
      "Processing Record 41 of Set 6 | russell\n",
      "Processing Record 42 of Set 6 | sentyabrskiy\n",
      "'coord'\n",
      "Processing Record 43 of Set 6 | kavkazskiy\n",
      "Processing Record 44 of Set 6 | acarau\n",
      "Processing Record 45 of Set 6 | can tho\n",
      "Processing Record 46 of Set 6 | pangnirtung\n",
      "Processing Record 47 of Set 6 | christiana\n",
      "Processing Record 48 of Set 6 | batagay\n",
      "Processing Record 49 of Set 6 | ouesso\n",
      "Processing Record 0 of Set 7 | fernie\n",
      "Processing Record 1 of Set 7 | mount isa\n",
      "Processing Record 2 of Set 7 | vilyuysk\n",
      "Processing Record 3 of Set 7 | grand centre\n",
      "'coord'\n",
      "Processing Record 4 of Set 7 | port blair\n",
      "Processing Record 5 of Set 7 | falealupo\n",
      "'coord'\n",
      "Processing Record 6 of Set 7 | homer\n",
      "Processing Record 7 of Set 7 | sao filipe\n",
      "Processing Record 8 of Set 7 | celestun\n",
      "Processing Record 9 of Set 7 | kirakira\n",
      "Processing Record 10 of Set 7 | deep river\n",
      "Processing Record 11 of Set 7 | george town\n",
      "Processing Record 12 of Set 7 | alice springs\n",
      "Processing Record 13 of Set 7 | yenagoa\n",
      "Processing Record 14 of Set 7 | podgornoye\n",
      "Processing Record 15 of Set 7 | sopelana\n",
      "Processing Record 16 of Set 7 | balkhash\n",
      "Processing Record 17 of Set 7 | mayahi\n",
      "Processing Record 18 of Set 7 | najran\n",
      "Processing Record 19 of Set 7 | almenara\n",
      "Processing Record 20 of Set 7 | leshukonskoye\n",
      "Processing Record 21 of Set 7 | sambava\n",
      "Processing Record 22 of Set 7 | smirnykh\n",
      "Processing Record 23 of Set 7 | basco\n",
      "Processing Record 24 of Set 7 | somma lombardo\n",
      "Processing Record 25 of Set 7 | korla\n",
      "Processing Record 26 of Set 7 | georgetown\n",
      "Processing Record 27 of Set 7 | kendari\n",
      "Processing Record 28 of Set 7 | evensk\n",
      "Processing Record 29 of Set 7 | ust-maya\n",
      "Processing Record 30 of Set 7 | ndago\n",
      "Processing Record 31 of Set 7 | mergui\n",
      "'coord'\n",
      "Processing Record 32 of Set 7 | bara\n",
      "Processing Record 33 of Set 7 | inuvik\n",
      "Processing Record 34 of Set 7 | beaufort\n",
      "Processing Record 35 of Set 7 | novobirilyussy\n",
      "Processing Record 36 of Set 7 | saiha\n",
      "Processing Record 37 of Set 7 | aswan\n",
      "Processing Record 38 of Set 7 | noumea\n",
      "Processing Record 39 of Set 7 | sanandaj\n",
      "Processing Record 40 of Set 7 | cockburn town\n",
      "Processing Record 41 of Set 7 | elko\n",
      "Processing Record 42 of Set 7 | mahebourg\n",
      "Processing Record 43 of Set 7 | rio gallegos\n",
      "Processing Record 44 of Set 7 | dovbysh\n",
      "Processing Record 45 of Set 7 | nyrob\n",
      "Processing Record 46 of Set 7 | danane\n",
      "Processing Record 47 of Set 7 | tautira\n",
      "Processing Record 48 of Set 7 | axim\n",
      "Processing Record 49 of Set 7 | grootfontein\n",
      "Processing Record 0 of Set 8 | lake charles\n",
      "Processing Record 1 of Set 8 | muros\n",
      "Processing Record 2 of Set 8 | hobyo\n",
      "Processing Record 3 of Set 8 | simao\n",
      "Processing Record 4 of Set 8 | brunswick\n",
      "Processing Record 5 of Set 8 | isoka\n",
      "Processing Record 6 of Set 8 | portland\n",
      "Processing Record 7 of Set 8 | bosaso\n",
      "Processing Record 8 of Set 8 | singaraja\n",
      "Processing Record 9 of Set 8 | gat\n",
      "Processing Record 10 of Set 8 | high prairie\n",
      "Processing Record 11 of Set 8 | cherskiy\n",
      "Processing Record 12 of Set 8 | nguiu\n",
      "'coord'\n",
      "Processing Record 13 of Set 8 | nizhneyansk\n",
      "'coord'\n",
      "Processing Record 14 of Set 8 | seymchan\n",
      "Processing Record 15 of Set 8 | karratha\n",
      "Processing Record 16 of Set 8 | atbasar\n",
      "Processing Record 17 of Set 8 | rundu\n",
      "Processing Record 18 of Set 8 | alotau\n",
      "'coord'\n",
      "Processing Record 19 of Set 8 | great falls\n",
      "Processing Record 20 of Set 8 | novyy urengoy\n",
      "Processing Record 21 of Set 8 | los gatos\n",
      "Processing Record 22 of Set 8 | waingapu\n",
      "Processing Record 23 of Set 8 | fort nelson\n",
      "Processing Record 24 of Set 8 | lucenec\n",
      "Processing Record 25 of Set 8 | mahon\n",
      "Processing Record 26 of Set 8 | port hedland\n",
      "Processing Record 27 of Set 8 | conceicao do araguaia\n",
      "Processing Record 28 of Set 8 | murovane\n",
      "Processing Record 29 of Set 8 | virginia beach\n",
      "Processing Record 30 of Set 8 | drumheller\n",
      "Processing Record 31 of Set 8 | asau\n",
      "Processing Record 32 of Set 8 | chapais\n",
      "Processing Record 33 of Set 8 | westport\n",
      "Processing Record 34 of Set 8 | hargeysa\n",
      "Processing Record 35 of Set 8 | bandar-e torkaman\n",
      "'coord'\n",
      "Processing Record 36 of Set 8 | sokolo\n",
      "Processing Record 37 of Set 8 | norman wells\n",
      "Processing Record 38 of Set 8 | holzminden\n",
      "Processing Record 39 of Set 8 | kabalo\n",
      "Processing Record 40 of Set 8 | akonolinga\n",
      "Processing Record 41 of Set 8 | ponta delgada\n"
     ]
    },
    {
     "name": "stdout",
     "output_type": "stream",
     "text": [
      "Processing Record 42 of Set 8 | troitsko-pechorsk\n",
      "Processing Record 43 of Set 8 | bethel\n",
      "Processing Record 44 of Set 8 | farah\n",
      "Processing Record 45 of Set 8 | tabat\n",
      "Processing Record 46 of Set 8 | camp verde\n",
      "Processing Record 47 of Set 8 | the colony\n",
      "Processing Record 48 of Set 8 | satipo\n",
      "Processing Record 49 of Set 8 | chicama\n",
      "Processing Record 0 of Set 9 | porto novo\n",
      "Processing Record 1 of Set 9 | bathsheba\n",
      "Processing Record 2 of Set 9 | saint-francois\n",
      "Processing Record 3 of Set 9 | coahuayana\n",
      "Processing Record 4 of Set 9 | tuatapere\n",
      "Processing Record 5 of Set 9 | paradwip\n",
      "'coord'\n",
      "Processing Record 6 of Set 9 | kalamb\n",
      "Processing Record 7 of Set 9 | pontes e lacerda\n",
      "Processing Record 8 of Set 9 | molina\n",
      "Processing Record 9 of Set 9 | itajobi\n",
      "Processing Record 10 of Set 9 | simpang\n",
      "Processing Record 11 of Set 9 | ewa beach\n",
      "Processing Record 12 of Set 9 | tezu\n",
      "Processing Record 13 of Set 9 | beloha\n",
      "Processing Record 14 of Set 9 | dekar\n",
      "Processing Record 15 of Set 9 | placer\n",
      "Processing Record 16 of Set 9 | ndele\n",
      "Processing Record 17 of Set 9 | tumannyy\n",
      "'coord'\n",
      "Processing Record 18 of Set 9 | ust-shonosha\n",
      "Processing Record 19 of Set 9 | babanusah\n",
      "'coord'\n",
      "Processing Record 20 of Set 9 | zhigansk\n",
      "Processing Record 21 of Set 9 | imamoglu\n",
      "Processing Record 22 of Set 9 | mandalgovi\n",
      "Processing Record 23 of Set 9 | skjervoy\n",
      "Processing Record 24 of Set 9 | galesong\n",
      "Processing Record 25 of Set 9 | grand gaube\n",
      "Processing Record 26 of Set 9 | zhezkazgan\n",
      "Processing Record 27 of Set 9 | amilly\n",
      "Processing Record 28 of Set 9 | port keats\n",
      "Processing Record 29 of Set 9 | kalach-na-donu\n",
      "Processing Record 30 of Set 9 | conakry\n",
      "Processing Record 31 of Set 9 | monte alegre de minas\n",
      "Processing Record 32 of Set 9 | superior\n",
      "Processing Record 33 of Set 9 | abrau-dyurso\n",
      "Processing Record 34 of Set 9 | marawi\n",
      "Processing Record 35 of Set 9 | ruatoria\n",
      "'coord'\n",
      "Processing Record 36 of Set 9 | nhamunda\n",
      "Processing Record 37 of Set 9 | hambantota\n",
      "Processing Record 38 of Set 9 | beisfjord\n",
      "Processing Record 39 of Set 9 | baculin\n",
      "Processing Record 40 of Set 9 | bonham\n",
      "Processing Record 41 of Set 9 | vila franca do campo\n",
      "Processing Record 42 of Set 9 | jega\n",
      "Processing Record 43 of Set 9 | maloshuyka\n",
      "'coord'\n",
      "Processing Record 44 of Set 9 | gilroy\n",
      "Processing Record 45 of Set 9 | north port\n",
      "Processing Record 46 of Set 9 | sacramento\n",
      "Processing Record 47 of Set 9 | hay river\n",
      "Processing Record 48 of Set 9 | governador valadares\n",
      "Processing Record 49 of Set 9 | pafos\n",
      "Processing Record 0 of Set 10 | morehead\n",
      "Processing Record 1 of Set 10 | fortuna\n",
      "Processing Record 2 of Set 10 | klaksvik\n",
      "Processing Record 3 of Set 10 | clyde river\n",
      "Processing Record 4 of Set 10 | dekalb\n",
      "Processing Record 5 of Set 10 | buin\n",
      "Processing Record 6 of Set 10 | ilinskiy\n",
      "Processing Record 7 of Set 10 | mecca\n",
      "Processing Record 8 of Set 10 | hirara\n",
      "Processing Record 9 of Set 10 | shache\n",
      "Processing Record 10 of Set 10 | otjimbingwe\n",
      "Processing Record 11 of Set 10 | mundo nuevo\n",
      "Processing Record 12 of Set 10 | vrangel\n",
      "Processing Record 13 of Set 10 | amos\n",
      "Processing Record 14 of Set 10 | chuzhou\n",
      "Processing Record 15 of Set 10 | lakes entrance\n",
      "Processing Record 16 of Set 10 | port hawkesbury\n",
      "Processing Record 17 of Set 10 | kismayo\n",
      "Processing Record 18 of Set 10 | eenhana\n",
      "Processing Record 19 of Set 10 | riyadh\n",
      "Processing Record 20 of Set 10 | muscat\n",
      "Processing Record 21 of Set 10 | lincoln\n",
      "Processing Record 22 of Set 10 | kopervik\n",
      "Processing Record 23 of Set 10 | jacqueville\n",
      "Processing Record 24 of Set 10 | newry\n",
      "Processing Record 25 of Set 10 | ejido\n",
      "Processing Record 26 of Set 10 | ekimchan\n",
      "Processing Record 27 of Set 10 | kontagora\n",
      "Processing Record 28 of Set 10 | coihaique\n",
      "Processing Record 29 of Set 10 | brownsville\n",
      "Processing Record 30 of Set 10 | togur\n",
      "Processing Record 31 of Set 10 | strezhevoy\n",
      "Processing Record 32 of Set 10 | petatlan\n",
      "Processing Record 33 of Set 10 | sabinas hidalgo\n",
      "Processing Record 34 of Set 10 | ashtian\n",
      "Processing Record 35 of Set 10 | port-gentil\n",
      "Processing Record 36 of Set 10 | shafranovo\n",
      "Processing Record 37 of Set 10 | machinga\n",
      "Processing Record 38 of Set 10 | powell river\n",
      "Processing Record 39 of Set 10 | eyemouth\n",
      "Processing Record 40 of Set 10 | evanston\n",
      "Processing Record 41 of Set 10 | nanganga\n",
      "Processing Record 42 of Set 10 | garowe\n",
      "Processing Record 43 of Set 10 | alofi\n",
      "Processing Record 44 of Set 10 | umm kaddadah\n",
      "Processing Record 45 of Set 10 | laizhou\n",
      "Processing Record 46 of Set 10 | piryion\n",
      "'coord'\n",
      "Processing Record 47 of Set 10 | buala\n",
      "Processing Record 48 of Set 10 | conway\n",
      "Processing Record 49 of Set 10 | los llanos de aridane\n",
      "Processing Record 0 of Set 11 | ambon\n",
      "Processing Record 1 of Set 11 | kollam\n",
      "Processing Record 2 of Set 11 | vincennes\n",
      "Processing Record 3 of Set 11 | sumbawanga\n",
      "Processing Record 4 of Set 11 | srednekolymsk\n",
      "Processing Record 5 of Set 11 | isangel\n",
      "Processing Record 6 of Set 11 | xuddur\n",
      "Processing Record 7 of Set 11 | penjamo\n",
      "Processing Record 8 of Set 11 | leningradskiy\n",
      "Processing Record 9 of Set 11 | ahmadpur\n",
      "Processing Record 10 of Set 11 | altay\n",
      "Processing Record 11 of Set 11 | copperas cove\n",
      "Processing Record 12 of Set 11 | tokmak\n",
      "Processing Record 13 of Set 11 | beyneu\n",
      "Processing Record 14 of Set 11 | atikokan\n",
      "Processing Record 15 of Set 11 | kodinsk\n",
      "Processing Record 16 of Set 11 | kamenka\n",
      "Processing Record 17 of Set 11 | apatity\n",
      "Processing Record 18 of Set 11 | rawson\n",
      "Processing Record 19 of Set 11 | saint-louis\n",
      "Processing Record 20 of Set 11 | anloga\n",
      "Processing Record 21 of Set 11 | krasnoselkup\n",
      "Processing Record 22 of Set 11 | pundaguitan\n",
      "Processing Record 23 of Set 11 | flin flon\n",
      "Processing Record 24 of Set 11 | vanavara\n",
      "Processing Record 25 of Set 11 | trat\n",
      "Processing Record 26 of Set 11 | ghanzi\n",
      "Processing Record 27 of Set 11 | kahului\n",
      "Processing Record 28 of Set 11 | progreso\n",
      "Processing Record 29 of Set 11 | vao\n",
      "Processing Record 30 of Set 11 | huanan\n",
      "Processing Record 31 of Set 11 | rocha\n",
      "Processing Record 32 of Set 11 | ust-ishim\n",
      "Processing Record 33 of Set 11 | excelsior springs\n",
      "Processing Record 34 of Set 11 | la vista\n",
      "Processing Record 35 of Set 11 | urucara\n",
      "Processing Record 36 of Set 11 | barao de melgaco\n",
      "Processing Record 37 of Set 11 | cabedelo\n",
      "Processing Record 38 of Set 11 | kuala lumpur\n",
      "Processing Record 39 of Set 11 | busembatia\n",
      "Processing Record 40 of Set 11 | ilulissat\n",
      "Processing Record 41 of Set 11 | mahadday weyne\n",
      "'coord'\n",
      "Processing Record 42 of Set 11 | joao camara\n",
      "Processing Record 43 of Set 11 | kavaratti\n",
      "Processing Record 44 of Set 11 | luwuk\n",
      "Processing Record 45 of Set 11 | kitimat\n",
      "Processing Record 46 of Set 11 | cascais\n",
      "Processing Record 47 of Set 11 | quelimane\n",
      "Processing Record 48 of Set 11 | tatarsk\n",
      "Processing Record 49 of Set 11 | bastia\n",
      "Processing Record 0 of Set 12 | kalomo\n",
      "'coord'\n",
      "Processing Record 1 of Set 12 | dori\n",
      "Processing Record 2 of Set 12 | la rioja\n",
      "Processing Record 3 of Set 12 | pierreville\n",
      "Processing Record 4 of Set 12 | kalas\n",
      "Processing Record 5 of Set 12 | labutta\n",
      "'coord'\n",
      "Processing Record 6 of Set 12 | yanan\n",
      "'coord'\n",
      "Processing Record 7 of Set 12 | igrim\n",
      "Processing Record 8 of Set 12 | dundee\n",
      "Processing Record 9 of Set 12 | bergama\n",
      "Processing Record 10 of Set 12 | brigantine\n",
      "Processing Record 11 of Set 12 | eyl\n",
      "Processing Record 12 of Set 12 | teya\n",
      "Processing Record 13 of Set 12 | cape canaveral\n",
      "Processing Record 14 of Set 12 | takapau\n",
      "Processing Record 15 of Set 12 | muisne\n",
      "Processing Record 16 of Set 12 | zurrieq\n",
      "Processing Record 17 of Set 12 | manaure\n",
      "Processing Record 18 of Set 12 | kuche\n",
      "'coord'\n",
      "Processing Record 19 of Set 12 | ulaangom\n",
      "Processing Record 20 of Set 12 | puerto madryn\n",
      "Processing Record 21 of Set 12 | mombetsu\n",
      "Processing Record 22 of Set 12 | louisbourg\n",
      "'coord'\n",
      "Processing Record 23 of Set 12 | ca mau\n",
      "Processing Record 24 of Set 12 | honningsvag\n",
      "Processing Record 25 of Set 12 | key west\n",
      "Processing Record 26 of Set 12 | camacupa\n",
      "Processing Record 27 of Set 12 | sioux lookout\n",
      "Processing Record 28 of Set 12 | tiarei\n",
      "Processing Record 29 of Set 12 | gwadar\n",
      "Processing Record 30 of Set 12 | raton\n",
      "Processing Record 31 of Set 12 | cabo san lucas\n",
      "Processing Record 32 of Set 12 | alta floresta\n",
      "Processing Record 33 of Set 12 | ukiah\n",
      "Processing Record 34 of Set 12 | borazjan\n",
      "Processing Record 35 of Set 12 | saint-augustin\n"
     ]
    },
    {
     "name": "stdout",
     "output_type": "stream",
     "text": [
      "Processing Record 36 of Set 12 | yazoo city\n",
      "Processing Record 37 of Set 12 | zyryanka\n",
      "Processing Record 38 of Set 12 | hovd\n",
      "Processing Record 39 of Set 12 | belyy yar\n",
      "Processing Record 40 of Set 12 | atar\n",
      "Processing Record 41 of Set 12 | piacabucu\n",
      "Processing Record 42 of Set 12 | whitianga\n",
      "Processing Record 43 of Set 12 | tarbagatay\n",
      "Processing Record 44 of Set 12 | benemerito de las americas\n",
      "Processing Record 45 of Set 12 | cap malheureux\n",
      "Processing Record 46 of Set 12 | kushmurun\n",
      "Processing Record 47 of Set 12 | solenzo\n",
      "Processing Record 48 of Set 12 | bandarbeyla\n",
      "Processing Record 49 of Set 12 | ginir\n",
      "Processing Record 0 of Set 13 | chekhov\n",
      "Processing Record 1 of Set 13 | sur\n",
      "Processing Record 2 of Set 13 | bauchi\n",
      "-----------------------------\n",
      "Data Retrieval Complete      \n",
      "-----------------------------\n"
     ]
    }
   ],
   "source": [
    "# Set the API base URL\n",
    "base_url = f\"https://api.openweathermap.org/data/2.5/weather?units=Metric&APPID={weather_api_key}\"\n",
    "\n",
    "# Define an empty list to fetch the weather data for each city\n",
    "city_data = []\n",
    "\n",
    "# Print to logger\n",
    "print(\"Beginning Data Retrieval     \")\n",
    "print(\"-----------------------------\")\n",
    "\n",
    "# Create counters\n",
    "record_count = 1\n",
    "set_count = 1\n",
    "\n",
    "# Loop through all the cities in our list to fetch weather data\n",
    "for i, city in enumerate(cities):\n",
    "        \n",
    "    # Group cities in sets of 50 for logging purposes\n",
    "    if (i % 50 == 0 and i >= 50):\n",
    "        set_count += 1\n",
    "        record_count = 0\n",
    "\n",
    "    # Create endpoint URL with each city\n",
    "    city_url = base_url + \"&q=\" + city\n",
    "    \n",
    "    # Log the url, record, and set numbers\n",
    "    print(\"Processing Record %s of Set %s | %s\" % (record_count, set_count, city))\n",
    "\n",
    "    # Add 1 to the record count\n",
    "    record_count += 1\n",
    "\n",
    "    # Run an API request for each of the cities\n",
    "    try:\n",
    "        # Parse the JSON and retrieve data\n",
    "        city_weather = requests.get(city_url).json()\n",
    "\n",
    "        # Parse out latitude, longitude, max temp, humidity, cloudiness, wind speed, country, and date\n",
    "        city_lat = city_weather['coord']['lat']\n",
    "        city_lng = city_weather['coord']['lon']\n",
    "        city_max_temp = city_weather['main']['temp_max']\n",
    "        city_humidity = city_weather['main']['humidity']\n",
    "        city_clouds = city_weather['clouds']['all']\n",
    "        city_wind = city_weather['wind']['speed']\n",
    "        city_country = city_weather['sys']['country']\n",
    "        city_date = city_weather['dt']\n",
    "\n",
    "        # Append the City information into city_data list\n",
    "        city_data.append({\"City\": city, \n",
    "                          \"Lat\": city_lat, \n",
    "                          \"Lng\": city_lng, \n",
    "                          \"Max Temp\": city_max_temp,\n",
    "                          \"Humidity\": city_humidity,\n",
    "                          \"Cloudiness\": city_clouds,\n",
    "                          \"Wind Speed\": city_wind,\n",
    "                          \"Country\": city_country,\n",
    "                          \"Date\": city_date})\n",
    "\n",
    "    # If an error is experienced, skip the city\n",
    "    except Exception as e:\n",
    "        print(e)\n",
    "              \n",
    "# Indicate that Data Loading is complete \n",
    "print(\"-----------------------------\")\n",
    "print(\"Data Retrieval Complete      \")\n",
    "print(\"-----------------------------\")"
   ]
  },
  {
   "cell_type": "code",
   "execution_count": 6,
   "metadata": {},
   "outputs": [
    {
     "data": {
      "text/plain": [
       "City          557\n",
       "Lat           557\n",
       "Lng           557\n",
       "Max Temp      557\n",
       "Humidity      557\n",
       "Cloudiness    557\n",
       "Wind Speed    557\n",
       "Country       557\n",
       "Date          557\n",
       "dtype: int64"
      ]
     },
     "execution_count": 6,
     "metadata": {},
     "output_type": "execute_result"
    }
   ],
   "source": [
    "# Convert the cities weather data into a Pandas DataFrame\n",
    "city_data_df = pd.DataFrame(city_data)                       \n",
    "                          \n",
    "# Show Record Count\n",
    "city_data_df.count()"
   ]
  },
  {
   "cell_type": "code",
   "execution_count": 7,
   "metadata": {},
   "outputs": [
    {
     "data": {
      "text/html": [
       "<div>\n",
       "<style scoped>\n",
       "    .dataframe tbody tr th:only-of-type {\n",
       "        vertical-align: middle;\n",
       "    }\n",
       "\n",
       "    .dataframe tbody tr th {\n",
       "        vertical-align: top;\n",
       "    }\n",
       "\n",
       "    .dataframe thead th {\n",
       "        text-align: right;\n",
       "    }\n",
       "</style>\n",
       "<table border=\"1\" class=\"dataframe\">\n",
       "  <thead>\n",
       "    <tr style=\"text-align: right;\">\n",
       "      <th></th>\n",
       "      <th>City</th>\n",
       "      <th>Lat</th>\n",
       "      <th>Lng</th>\n",
       "      <th>Max Temp</th>\n",
       "      <th>Humidity</th>\n",
       "      <th>Cloudiness</th>\n",
       "      <th>Wind Speed</th>\n",
       "      <th>Country</th>\n",
       "      <th>Date</th>\n",
       "    </tr>\n",
       "  </thead>\n",
       "  <tbody>\n",
       "    <tr>\n",
       "      <th>0</th>\n",
       "      <td>constitucion</td>\n",
       "      <td>-35.3333</td>\n",
       "      <td>-72.4167</td>\n",
       "      <td>14.17</td>\n",
       "      <td>76</td>\n",
       "      <td>98</td>\n",
       "      <td>3.26</td>\n",
       "      <td>CL</td>\n",
       "      <td>1687191071</td>\n",
       "    </tr>\n",
       "    <tr>\n",
       "      <th>1</th>\n",
       "      <td>ushuaia</td>\n",
       "      <td>-54.8000</td>\n",
       "      <td>-68.3000</td>\n",
       "      <td>4.81</td>\n",
       "      <td>70</td>\n",
       "      <td>0</td>\n",
       "      <td>2.57</td>\n",
       "      <td>AR</td>\n",
       "      <td>1687190937</td>\n",
       "    </tr>\n",
       "    <tr>\n",
       "      <th>2</th>\n",
       "      <td>katobu</td>\n",
       "      <td>-4.9408</td>\n",
       "      <td>122.5276</td>\n",
       "      <td>22.72</td>\n",
       "      <td>85</td>\n",
       "      <td>66</td>\n",
       "      <td>1.96</td>\n",
       "      <td>ID</td>\n",
       "      <td>1687191072</td>\n",
       "    </tr>\n",
       "    <tr>\n",
       "      <th>3</th>\n",
       "      <td>bluff</td>\n",
       "      <td>-46.6000</td>\n",
       "      <td>168.3333</td>\n",
       "      <td>7.77</td>\n",
       "      <td>88</td>\n",
       "      <td>25</td>\n",
       "      <td>3.19</td>\n",
       "      <td>NZ</td>\n",
       "      <td>1687190923</td>\n",
       "    </tr>\n",
       "    <tr>\n",
       "      <th>4</th>\n",
       "      <td>egvekinot</td>\n",
       "      <td>66.3167</td>\n",
       "      <td>-179.1667</td>\n",
       "      <td>2.50</td>\n",
       "      <td>88</td>\n",
       "      <td>100</td>\n",
       "      <td>1.81</td>\n",
       "      <td>RU</td>\n",
       "      <td>1687191073</td>\n",
       "    </tr>\n",
       "  </tbody>\n",
       "</table>\n",
       "</div>"
      ],
      "text/plain": [
       "           City      Lat       Lng  Max Temp  Humidity  Cloudiness  \\\n",
       "0  constitucion -35.3333  -72.4167     14.17        76          98   \n",
       "1       ushuaia -54.8000  -68.3000      4.81        70           0   \n",
       "2        katobu  -4.9408  122.5276     22.72        85          66   \n",
       "3         bluff -46.6000  168.3333      7.77        88          25   \n",
       "4     egvekinot  66.3167 -179.1667      2.50        88         100   \n",
       "\n",
       "   Wind Speed Country        Date  \n",
       "0        3.26      CL  1687191071  \n",
       "1        2.57      AR  1687190937  \n",
       "2        1.96      ID  1687191072  \n",
       "3        3.19      NZ  1687190923  \n",
       "4        1.81      RU  1687191073  "
      ]
     },
     "execution_count": 7,
     "metadata": {},
     "output_type": "execute_result"
    }
   ],
   "source": [
    "# Display sample data\n",
    "city_data_df.head()"
   ]
  },
  {
   "cell_type": "code",
   "execution_count": 8,
   "metadata": {},
   "outputs": [],
   "source": [
    "# Export the City_Data into a csv\n",
    "city_data_df.to_csv(\"output data/mod_6_cities.csv\", index_label=\"City_ID\")"
   ]
  },
  {
   "cell_type": "code",
   "execution_count": 9,
   "metadata": {},
   "outputs": [
    {
     "data": {
      "text/html": [
       "<div>\n",
       "<style scoped>\n",
       "    .dataframe tbody tr th:only-of-type {\n",
       "        vertical-align: middle;\n",
       "    }\n",
       "\n",
       "    .dataframe tbody tr th {\n",
       "        vertical-align: top;\n",
       "    }\n",
       "\n",
       "    .dataframe thead th {\n",
       "        text-align: right;\n",
       "    }\n",
       "</style>\n",
       "<table border=\"1\" class=\"dataframe\">\n",
       "  <thead>\n",
       "    <tr style=\"text-align: right;\">\n",
       "      <th></th>\n",
       "      <th>City</th>\n",
       "      <th>Lat</th>\n",
       "      <th>Lng</th>\n",
       "      <th>Max Temp</th>\n",
       "      <th>Humidity</th>\n",
       "      <th>Cloudiness</th>\n",
       "      <th>Wind Speed</th>\n",
       "      <th>Country</th>\n",
       "      <th>Date</th>\n",
       "    </tr>\n",
       "    <tr>\n",
       "      <th>City_ID</th>\n",
       "      <th></th>\n",
       "      <th></th>\n",
       "      <th></th>\n",
       "      <th></th>\n",
       "      <th></th>\n",
       "      <th></th>\n",
       "      <th></th>\n",
       "      <th></th>\n",
       "      <th></th>\n",
       "    </tr>\n",
       "  </thead>\n",
       "  <tbody>\n",
       "    <tr>\n",
       "      <th>0</th>\n",
       "      <td>constitucion</td>\n",
       "      <td>-35.3333</td>\n",
       "      <td>-72.4167</td>\n",
       "      <td>14.17</td>\n",
       "      <td>76</td>\n",
       "      <td>98</td>\n",
       "      <td>3.26</td>\n",
       "      <td>CL</td>\n",
       "      <td>1687191071</td>\n",
       "    </tr>\n",
       "    <tr>\n",
       "      <th>1</th>\n",
       "      <td>ushuaia</td>\n",
       "      <td>-54.8000</td>\n",
       "      <td>-68.3000</td>\n",
       "      <td>4.81</td>\n",
       "      <td>70</td>\n",
       "      <td>0</td>\n",
       "      <td>2.57</td>\n",
       "      <td>AR</td>\n",
       "      <td>1687190937</td>\n",
       "    </tr>\n",
       "    <tr>\n",
       "      <th>2</th>\n",
       "      <td>katobu</td>\n",
       "      <td>-4.9408</td>\n",
       "      <td>122.5276</td>\n",
       "      <td>22.72</td>\n",
       "      <td>85</td>\n",
       "      <td>66</td>\n",
       "      <td>1.96</td>\n",
       "      <td>ID</td>\n",
       "      <td>1687191072</td>\n",
       "    </tr>\n",
       "    <tr>\n",
       "      <th>3</th>\n",
       "      <td>bluff</td>\n",
       "      <td>-46.6000</td>\n",
       "      <td>168.3333</td>\n",
       "      <td>7.77</td>\n",
       "      <td>88</td>\n",
       "      <td>25</td>\n",
       "      <td>3.19</td>\n",
       "      <td>NZ</td>\n",
       "      <td>1687190923</td>\n",
       "    </tr>\n",
       "    <tr>\n",
       "      <th>4</th>\n",
       "      <td>egvekinot</td>\n",
       "      <td>66.3167</td>\n",
       "      <td>-179.1667</td>\n",
       "      <td>2.50</td>\n",
       "      <td>88</td>\n",
       "      <td>100</td>\n",
       "      <td>1.81</td>\n",
       "      <td>RU</td>\n",
       "      <td>1687191073</td>\n",
       "    </tr>\n",
       "  </tbody>\n",
       "</table>\n",
       "</div>"
      ],
      "text/plain": [
       "                 City      Lat       Lng  Max Temp  Humidity  Cloudiness  \\\n",
       "City_ID                                                                    \n",
       "0        constitucion -35.3333  -72.4167     14.17        76          98   \n",
       "1             ushuaia -54.8000  -68.3000      4.81        70           0   \n",
       "2              katobu  -4.9408  122.5276     22.72        85          66   \n",
       "3               bluff -46.6000  168.3333      7.77        88          25   \n",
       "4           egvekinot  66.3167 -179.1667      2.50        88         100   \n",
       "\n",
       "         Wind Speed Country        Date  \n",
       "City_ID                                  \n",
       "0              3.26      CL  1687191071  \n",
       "1              2.57      AR  1687190937  \n",
       "2              1.96      ID  1687191072  \n",
       "3              3.19      NZ  1687190923  \n",
       "4              1.81      RU  1687191073  "
      ]
     },
     "execution_count": 9,
     "metadata": {},
     "output_type": "execute_result"
    }
   ],
   "source": [
    "# Read saved data\n",
    "city_data_df = pd.read_csv(\"output data/mod_6_cities.csv\", index_col=\"City_ID\")\n",
    "\n",
    "# Display sample data\n",
    "city_data_df.head()"
   ]
  },
  {
   "cell_type": "code",
   "execution_count": 10,
   "metadata": {
    "tags": []
   },
   "outputs": [
    {
     "data": {
      "image/png": "[encoded data removed]",
      "text/plain": [
       "<Figure size 432x288 with 1 Axes>"
      ]
     },
     "metadata": {
      "needs_background": "light"
     },
     "output_type": "display_data"
    }
   ],
   "source": [
    "# Build scatter plot for latitude vs. temperature\n",
    "plt.scatter(city_data_df[\"Lat\"],city_data_df[\"Max Temp\"])\n",
    "\n",
    "# Incorporate the other graph properties\n",
    "plt.xlabel(\"Latitude\")\n",
    "plt.ylabel(\"Max Temperature\")\n",
    "\n",
    "# Save the figure\n",
    "plt.savefig(\"output data/Fig1.png\")\n",
    "\n",
    "# Show plot\n",
    "plt.show()"
   ]
  },
  {
   "cell_type": "markdown",
   "metadata": {},
   "source": [
    "#### Latitude Vs. Humidity"
   ]
  },
  {
   "cell_type": "code",
   "execution_count": 11,
   "metadata": {},
   "outputs": [
    {
     "data": {
      "image/png": "[encoded data removed]",
      "text/plain": [
       "<Figure size 432x288 with 1 Axes>"
      ]
     },
     "metadata": {
      "needs_background": "light"
     },
     "output_type": "display_data"
    }
   ],
   "source": [
    "# Build the scatter plots for latitude vs. humidity\n",
    "plt.scatter(city_data_df[\"Lat\"],city_data_df[\"Humidity\"])\n",
    "\n",
    "# Incorporate the other graph properties\n",
    "plt.xlabel(\"Latitude\")\n",
    "plt.ylabel(\"Humidity\")\n",
    "\n",
    "# Save the figure\n",
    "plt.savefig(\"output data/Fig2.png\")\n",
    "\n",
    "# Show plot\n",
    "plt.show()"
   ]
  },
  {
   "cell_type": "markdown",
   "metadata": {},
   "source": [
    "#### Latitude Vs. Cloudiness"
   ]
  },
  {
   "cell_type": "code",
   "execution_count": 12,
   "metadata": {},
   "outputs": [
    {
     "data": {
      "image/png": "[encoded data removed]",
      "text/plain": [
       "<Figure size 432x288 with 1 Axes>"
      ]
     },
     "metadata": {
      "needs_background": "light"
     },
     "output_type": "display_data"
    }
   ],
   "source": [
    "# Build the scatter plots for latitude vs. cloudiness\n",
    "plt.scatter(city_data_df[\"Lat\"],city_data_df[\"Cloudiness\"])\n",
    "\n",
    "# Incorporate the other graph properties\n",
    "plt.xlabel(\"Latitude\")\n",
    "plt.ylabel(\"Cloudiness\")\n",
    "\n",
    "# Save the figure\n",
    "plt.savefig(\"output data/Fig3.png\")\n",
    "\n",
    "# Show plot\n",
    "plt.show()"
   ]
  },
  {
   "cell_type": "markdown",
   "metadata": {},
   "source": [
    "#### Latitude vs. Wind Speed Plot"
   ]
  },
  {
   "cell_type": "code",
   "execution_count": 13,
   "metadata": {},
   "outputs": [
    {
     "data": {
      "image/png": "[encoded data removed]",
      "text/plain": [
       "<Figure size 432x288 with 1 Axes>"
      ]
     },
     "metadata": {
      "needs_background": "light"
     },
     "output_type": "display_data"
    }
   ],
   "source": [
    "# Build the scatter plots for latitude vs. wind speed\n",
    "plt.scatter(city_data_df[\"Lat\"],city_data_df[\"Wind Speed\"])\n",
    "\n",
    "# Incorporate the other graph properties\n",
    "plt.xlabel(\"Latitude\")\n",
    "plt.ylabel(\"Wind Speed\")\n",
    "\n",
    "# Save the figure\n",
    "plt.savefig(\"output data/Fig4.png\")\n",
    "\n",
    "# Show plot\n",
    "plt.show()"
   ]
  },
  {
   "cell_type": "code",
   "execution_count": 14,
   "metadata": {},
   "outputs": [
    {
     "data": {
      "text/html": [
       "<div>\n",
       "<style scoped>\n",
       "    .dataframe tbody tr th:only-of-type {\n",
       "        vertical-align: middle;\n",
       "    }\n",
       "\n",
       "    .dataframe tbody tr th {\n",
       "        vertical-align: top;\n",
       "    }\n",
       "\n",
       "    .dataframe thead th {\n",
       "        text-align: right;\n",
       "    }\n",
       "</style>\n",
       "<table border=\"1\" class=\"dataframe\">\n",
       "  <thead>\n",
       "    <tr style=\"text-align: right;\">\n",
       "      <th></th>\n",
       "      <th>City</th>\n",
       "      <th>Lat</th>\n",
       "      <th>Lng</th>\n",
       "      <th>Max Temp</th>\n",
       "      <th>Humidity</th>\n",
       "      <th>Cloudiness</th>\n",
       "      <th>Wind Speed</th>\n",
       "      <th>Country</th>\n",
       "      <th>Date</th>\n",
       "    </tr>\n",
       "    <tr>\n",
       "      <th>City_ID</th>\n",
       "      <th></th>\n",
       "      <th></th>\n",
       "      <th></th>\n",
       "      <th></th>\n",
       "      <th></th>\n",
       "      <th></th>\n",
       "      <th></th>\n",
       "      <th></th>\n",
       "      <th></th>\n",
       "    </tr>\n",
       "  </thead>\n",
       "  <tbody>\n",
       "    <tr>\n",
       "      <th>4</th>\n",
       "      <td>egvekinot</td>\n",
       "      <td>66.3167</td>\n",
       "      <td>-179.1667</td>\n",
       "      <td>2.50</td>\n",
       "      <td>88</td>\n",
       "      <td>100</td>\n",
       "      <td>1.81</td>\n",
       "      <td>RU</td>\n",
       "      <td>1687191073</td>\n",
       "    </tr>\n",
       "    <tr>\n",
       "      <th>5</th>\n",
       "      <td>hue</td>\n",
       "      <td>16.4667</td>\n",
       "      <td>107.6000</td>\n",
       "      <td>30.06</td>\n",
       "      <td>70</td>\n",
       "      <td>40</td>\n",
       "      <td>1.03</td>\n",
       "      <td>VN</td>\n",
       "      <td>1687191073</td>\n",
       "    </tr>\n",
       "    <tr>\n",
       "      <th>6</th>\n",
       "      <td>tura</td>\n",
       "      <td>25.5198</td>\n",
       "      <td>90.2201</td>\n",
       "      <td>23.16</td>\n",
       "      <td>95</td>\n",
       "      <td>74</td>\n",
       "      <td>2.95</td>\n",
       "      <td>IN</td>\n",
       "      <td>1687190948</td>\n",
       "    </tr>\n",
       "    <tr>\n",
       "      <th>8</th>\n",
       "      <td>catuday</td>\n",
       "      <td>16.2923</td>\n",
       "      <td>119.8062</td>\n",
       "      <td>27.10</td>\n",
       "      <td>76</td>\n",
       "      <td>36</td>\n",
       "      <td>1.45</td>\n",
       "      <td>PH</td>\n",
       "      <td>1687191074</td>\n",
       "    </tr>\n",
       "    <tr>\n",
       "      <th>15</th>\n",
       "      <td>nizhniy baskunchak</td>\n",
       "      <td>48.2198</td>\n",
       "      <td>46.8311</td>\n",
       "      <td>21.05</td>\n",
       "      <td>29</td>\n",
       "      <td>0</td>\n",
       "      <td>5.19</td>\n",
       "      <td>RU</td>\n",
       "      <td>1687191078</td>\n",
       "    </tr>\n",
       "  </tbody>\n",
       "</table>\n",
       "</div>"
      ],
      "text/plain": [
       "                       City      Lat       Lng  Max Temp  Humidity  \\\n",
       "City_ID                                                              \n",
       "4                 egvekinot  66.3167 -179.1667      2.50        88   \n",
       "5                       hue  16.4667  107.6000     30.06        70   \n",
       "6                      tura  25.5198   90.2201     23.16        95   \n",
       "8                   catuday  16.2923  119.8062     27.10        76   \n",
       "15       nizhniy baskunchak  48.2198   46.8311     21.05        29   \n",
       "\n",
       "         Cloudiness  Wind Speed Country        Date  \n",
       "City_ID                                              \n",
       "4               100        1.81      RU  1687191073  \n",
       "5                40        1.03      VN  1687191073  \n",
       "6                74        2.95      IN  1687190948  \n",
       "8                36        1.45      PH  1687191074  \n",
       "15                0        5.19      RU  1687191078  "
      ]
     },
     "execution_count": 14,
     "metadata": {},
     "output_type": "execute_result"
    }
   ],
   "source": [
    "# Create a DataFrame with the Northern Hemisphere data (Latitude >= 0)\n",
    "north_hem_df = pd.DataFrame(city_data_df[city_data_df.Lat >0])\n",
    "\n",
    "# Display sample data\n",
    "north_hem_df.head()"
   ]
  },
  {
   "cell_type": "code",
   "execution_count": 15,
   "metadata": {},
   "outputs": [
    {
     "data": {
      "text/html": [
       "<div>\n",
       "<style scoped>\n",
       "    .dataframe tbody tr th:only-of-type {\n",
       "        vertical-align: middle;\n",
       "    }\n",
       "\n",
       "    .dataframe tbody tr th {\n",
       "        vertical-align: top;\n",
       "    }\n",
       "\n",
       "    .dataframe thead th {\n",
       "        text-align: right;\n",
       "    }\n",
       "</style>\n",
       "<table border=\"1\" class=\"dataframe\">\n",
       "  <thead>\n",
       "    <tr style=\"text-align: right;\">\n",
       "      <th></th>\n",
       "      <th>City</th>\n",
       "      <th>Lat</th>\n",
       "      <th>Lng</th>\n",
       "      <th>Max Temp</th>\n",
       "      <th>Humidity</th>\n",
       "      <th>Cloudiness</th>\n",
       "      <th>Wind Speed</th>\n",
       "      <th>Country</th>\n",
       "      <th>Date</th>\n",
       "    </tr>\n",
       "    <tr>\n",
       "      <th>City_ID</th>\n",
       "      <th></th>\n",
       "      <th></th>\n",
       "      <th></th>\n",
       "      <th></th>\n",
       "      <th></th>\n",
       "      <th></th>\n",
       "      <th></th>\n",
       "      <th></th>\n",
       "      <th></th>\n",
       "    </tr>\n",
       "  </thead>\n",
       "  <tbody>\n",
       "    <tr>\n",
       "      <th>0</th>\n",
       "      <td>constitucion</td>\n",
       "      <td>-35.3333</td>\n",
       "      <td>-72.4167</td>\n",
       "      <td>14.17</td>\n",
       "      <td>76</td>\n",
       "      <td>98</td>\n",
       "      <td>3.26</td>\n",
       "      <td>CL</td>\n",
       "      <td>1687191071</td>\n",
       "    </tr>\n",
       "    <tr>\n",
       "      <th>1</th>\n",
       "      <td>ushuaia</td>\n",
       "      <td>-54.8000</td>\n",
       "      <td>-68.3000</td>\n",
       "      <td>4.81</td>\n",
       "      <td>70</td>\n",
       "      <td>0</td>\n",
       "      <td>2.57</td>\n",
       "      <td>AR</td>\n",
       "      <td>1687190937</td>\n",
       "    </tr>\n",
       "    <tr>\n",
       "      <th>2</th>\n",
       "      <td>katobu</td>\n",
       "      <td>-4.9408</td>\n",
       "      <td>122.5276</td>\n",
       "      <td>22.72</td>\n",
       "      <td>85</td>\n",
       "      <td>66</td>\n",
       "      <td>1.96</td>\n",
       "      <td>ID</td>\n",
       "      <td>1687191072</td>\n",
       "    </tr>\n",
       "    <tr>\n",
       "      <th>3</th>\n",
       "      <td>bluff</td>\n",
       "      <td>-46.6000</td>\n",
       "      <td>168.3333</td>\n",
       "      <td>7.77</td>\n",
       "      <td>88</td>\n",
       "      <td>25</td>\n",
       "      <td>3.19</td>\n",
       "      <td>NZ</td>\n",
       "      <td>1687190923</td>\n",
       "    </tr>\n",
       "    <tr>\n",
       "      <th>7</th>\n",
       "      <td>busselton</td>\n",
       "      <td>-33.6500</td>\n",
       "      <td>115.3333</td>\n",
       "      <td>14.07</td>\n",
       "      <td>70</td>\n",
       "      <td>100</td>\n",
       "      <td>6.64</td>\n",
       "      <td>AU</td>\n",
       "      <td>1687190915</td>\n",
       "    </tr>\n",
       "  </tbody>\n",
       "</table>\n",
       "</div>"
      ],
      "text/plain": [
       "                 City      Lat       Lng  Max Temp  Humidity  Cloudiness  \\\n",
       "City_ID                                                                    \n",
       "0        constitucion -35.3333  -72.4167     14.17        76          98   \n",
       "1             ushuaia -54.8000  -68.3000      4.81        70           0   \n",
       "2              katobu  -4.9408  122.5276     22.72        85          66   \n",
       "3               bluff -46.6000  168.3333      7.77        88          25   \n",
       "7           busselton -33.6500  115.3333     14.07        70         100   \n",
       "\n",
       "         Wind Speed Country        Date  \n",
       "City_ID                                  \n",
       "0              3.26      CL  1687191071  \n",
       "1              2.57      AR  1687190937  \n",
       "2              1.96      ID  1687191072  \n",
       "3              3.19      NZ  1687190923  \n",
       "7              6.64      AU  1687190915  "
      ]
     },
     "execution_count": 15,
     "metadata": {},
     "output_type": "execute_result"
    }
   ],
   "source": [
    "# Create a DataFrame with the Southern Hemisphere data (Latitude < 0)\n",
    "south_hem_df = pd.DataFrame(city_data_df[city_data_df.Lat <0])\n",
    "\n",
    "# Display sample data\n",
    "south_hem_df.head()"
   ]
  },
  {
   "cell_type": "code",
   "execution_count": 16,
   "metadata": {},
   "outputs": [],
   "source": [
    "# Define a function to create Linear Regression plots\n",
    "\n",
    "def linear_regression(x,y,z):\n",
    "    p_slope, p_int, p_r, p_p, p_std_err = st.linregress(x,y)\n",
    "    p_y = p_slope * x + p_int\n",
    "    plt.plot(x,p_y,\"r--\")\n",
    "    plt.scatter(x,y)\n",
    "    line_eq = \"y = \" + str(round(p_slope,2)) + \"x + \" + str(round(p_int,2))\n",
    "    plt.annotate(line_eq,z,fontsize=15,color=\"red\")\n",
    "    print(f\"R Value: {p_r}\")"
   ]
  },
  {
   "cell_type": "markdown",
   "metadata": {},
   "source": [
    "###  Temperature vs. Latitude Linear Regression Plot"
   ]
  },
  {
   "cell_type": "code",
   "execution_count": 17,
   "metadata": {},
   "outputs": [
    {
     "name": "stdout",
     "output_type": "stream",
     "text": [
      "R Value: -0.7261545640780228\n"
     ]
    },
    {
     "data": {
      "image/png": "[encoded data removed]",
      "text/plain": [
       "<Figure size 432x288 with 1 Axes>"
      ]
     },
     "metadata": {
      "needs_background": "light"
     },
     "output_type": "display_data"
    }
   ],
   "source": [
    "# Linear regression on Northern Hemisphere\n",
    "linear_regression(north_hem_df[\"Max Temp\"],north_hem_df[\"Lat\"],(0,10))\n",
    "plt.xlabel(\"Max Temperature\")\n",
    "plt.ylabel(\"Latitude\")\n",
    "plt.show()"
   ]
  },
  {
   "cell_type": "code",
   "execution_count": 23,
   "metadata": {},
   "outputs": [
    {
     "name": "stdout",
     "output_type": "stream",
     "text": [
      "R Value: 0.8759239956651254\n"
     ]
    },
    {
     "data": {
      "image/png": "[encoded data removed]",
      "text/plain": [
       "<Figure size 432x288 with 1 Axes>"
      ]
     },
     "metadata": {
      "needs_background": "light"
     },
     "output_type": "display_data"
    }
   ],
   "source": [
    "# Linear regression on Southern Hemisphere\n",
    "linear_regression(south_hem_df[\"Max Temp\"],south_hem_df[\"Lat\"],(0,-6))\n",
    "plt.xlabel(\"Max Temperature\")\n",
    "plt.ylabel(\"Latitude\")\n",
    "plt.show()"
   ]
  },
  {
   "cell_type": "markdown",
   "metadata": {},
   "source": [
    "As anticipated, as we progress closer to the equator, max temperatures on average rise. "
   ]
  },
  {
   "cell_type": "markdown",
   "metadata": {},
   "source": [
    "### Humidity vs. Latitude Linear Regression Plot"
   ]
  },
  {
   "cell_type": "code",
   "execution_count": 34,
   "metadata": {},
   "outputs": [
    {
     "name": "stdout",
     "output_type": "stream",
     "text": [
      "R Value: 0.06881204687671111\n"
     ]
    },
    {
     "data": {
      "image/png": "[encoded data removed]",
      "text/plain": [
       "<Figure size 432x288 with 1 Axes>"
      ]
     },
     "metadata": {
      "needs_background": "light"
     },
     "output_type": "display_data"
    }
   ],
   "source": [
    "# Northern Hemisphere\n",
    "linear_regression(north_hem_df[\"Humidity\"],north_hem_df[\"Lat\"],(5,73))\n",
    "plt.xlabel(\"Humidity\")\n",
    "plt.ylabel(\"Latitude\")\n",
    "plt.show()"
   ]
  },
  {
   "cell_type": "code",
   "execution_count": 40,
   "metadata": {},
   "outputs": [
    {
     "name": "stdout",
     "output_type": "stream",
     "text": [
      "R Value: 0.01616042661041645\n"
     ]
    },
    {
     "data": {
      "image/png": "[encoded data removed]",
      "text/plain": [
       "<Figure size 432x288 with 1 Axes>"
      ]
     },
     "metadata": {
      "needs_background": "light"
     },
     "output_type": "display_data"
    }
   ],
   "source": [
    "# Southern Hemisphere\n",
    "linear_regression(south_hem_df[\"Humidity\"],south_hem_df[\"Lat\"],(10,-50))\n",
    "plt.xlabel(\"Humidity\")\n",
    "plt.ylabel(\"Latitude\")\n",
    "plt.show()"
   ]
  },
  {
   "cell_type": "markdown",
   "metadata": {},
   "source": [
    "Interestingly - distribution for more humid locations is significanty higher and appearing to split 60/40 between equator proximate and non-proximate locations. "
   ]
  },
  {
   "cell_type": "markdown",
   "metadata": {},
   "source": [
    "### Cloudiness vs. Latitude Linear Regression Plot"
   ]
  },
  {
   "cell_type": "code",
   "execution_count": 43,
   "metadata": {},
   "outputs": [
    {
     "name": "stdout",
     "output_type": "stream",
     "text": [
      "R Value: 0.07329144029189452\n"
     ]
    },
    {
     "data": {
      "image/png": "[encoded data removed]",
      "text/plain": [
       "<Figure size 432x288 with 1 Axes>"
      ]
     },
     "metadata": {
      "needs_background": "light"
     },
     "output_type": "display_data"
    }
   ],
   "source": [
    "# Northern Hemisphere\n",
    "linear_regression(north_hem_df[\"Cloudiness\"],north_hem_df[\"Lat\"],(25,73))\n",
    "plt.xlabel(\"Cloudiness\")\n",
    "plt.ylabel(\"Latitude\")\n",
    "plt.show()"
   ]
  },
  {
   "cell_type": "code",
   "execution_count": 46,
   "metadata": {},
   "outputs": [
    {
     "name": "stdout",
     "output_type": "stream",
     "text": [
      "R Value: 0.10932347691633562\n"
     ]
    },
    {
     "data": {
      "image/png": "[encoded data removed]",
      "text/plain": [
       "<Figure size 432x288 with 1 Axes>"
      ]
     },
     "metadata": {
      "needs_background": "light"
     },
     "output_type": "display_data"
    }
   ],
   "source": [
    "# Southern Hemisphere\n",
    "linear_regression(south_hem_df[\"Cloudiness\"],south_hem_df[\"Lat\"],(20,-55))\n",
    "plt.xlabel(\"Cloudiness\")\n",
    "plt.ylabel(\"Latitude\")\n",
    "plt.show()"
   ]
  },
  {
   "cell_type": "markdown",
   "metadata": {},
   "source": [
    "### Wind Speed vs. Latitude Linear Regression Plot"
   ]
  },
  {
   "cell_type": "code",
   "execution_count": 50,
   "metadata": {},
   "outputs": [
    {
     "name": "stdout",
     "output_type": "stream",
     "text": [
      "R Value: -0.06626852120358631\n"
     ]
    },
    {
     "data": {
      "image/png": "[encoded data removed]",
      "text/plain": [
       "<Figure size 432x288 with 1 Axes>"
      ]
     },
     "metadata": {
      "needs_background": "light"
     },
     "output_type": "display_data"
    }
   ],
   "source": [
    "# Northern Hemisphere\n",
    "linear_regression(north_hem_df[\"Wind Speed\"],north_hem_df[\"Lat\"],(7,62))\n",
    "plt.xlabel(\"Wind Speed\")\n",
    "plt.ylabel(\"Latitude\")\n",
    "plt.show()"
   ]
  },
  {
   "cell_type": "code",
   "execution_count": 55,
   "metadata": {},
   "outputs": [
    {
     "name": "stdout",
     "output_type": "stream",
     "text": [
      "R Value: -0.16165694504115824\n"
     ]
    },
    {
     "data": {
      "image/png": "[encoded data removed]",
      "text/plain": [
       "<Figure size 432x288 with 1 Axes>"
      ]
     },
     "metadata": {
      "needs_background": "light"
     },
     "output_type": "display_data"
    }
   ],
   "source": [
    "# Southern Hemisphere\n",
    "linear_regression(south_hem_df[\"Wind Speed\"],south_hem_df[\"Lat\"],(6,-45))\n",
    "plt.xlabel(\"Wind Speed\")\n",
    "plt.ylabel(\"Latitude\")\n",
    "plt.show()"
   ]
  },
  {
   "cell_type": "markdown",
   "metadata": {},
   "source": [
    "As expected, maximum temperature rises as we appraoch the equator. Interestingly enough, humidity remains stable across the populuous regions - north america, europe, china - and is consistent with the same trend for cloudiness; where percipitation would be naturally denser. "
   ]
  },
  {
   "cell_type": "code",
   "execution_count": null,
   "metadata": {},
   "outputs": [],
   "source": []
  }
 ],
 "metadata": {
  "anaconda-cloud": {},
  "kernel_info": {
   "name": "python3"
  },
  "kernelspec": {
   "display_name": "PythonData",
   "language": "python",
   "name": "pythondata"
  },
  "language_info": {
   "codemirror_mode": {
    "name": "ipython",
    "version": 3
   },
   "file_extension": ".py",
   "mimetype": "text/x-python",
   "name": "python",
   "nbconvert_exporter": "python",
   "pygments_lexer": "ipython3",
   "version": "3.7.7"
  },
  "latex_envs": {
   "LaTeX_envs_menu_present": true,
   "autoclose": false,
   "autocomplete": true,
   "bibliofile": "biblio.bib",
   "cite_by": "apalike",
   "current_citInitial": 1,
   "eqLabelWithNumbers": true,
   "eqNumInitial": 1,
   "hotkeys": {
    "equation": "Ctrl-E",
    "itemize": "Ctrl-I"
   },
   "labels_anchors": false,
   "latex_user_defs": false,
   "report_style_numbering": false,
   "user_envs_cfg": false
  },
  "nteract": {
   "version": "0.12.3"
  }
 },
 "nbformat": 4,
 "nbformat_minor": 4
}
